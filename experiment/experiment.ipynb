{
 "cells": [
  {
   "cell_type": "code",
   "execution_count": 1,
   "metadata": {},
   "outputs": [
    {
     "ename": "ModuleNotFoundError",
     "evalue": "No module named 'dill'",
     "output_type": "error",
     "traceback": [
      "\u001b[1;31m---------------------------------------------------------------------------\u001b[0m",
      "\u001b[1;31mModuleNotFoundError\u001b[0m                       Traceback (most recent call last)",
      "Cell \u001b[1;32mIn[1], line 6\u001b[0m\n\u001b[0;32m      4\u001b[0m \u001b[38;5;28;01mimport\u001b[39;00m \u001b[38;5;21;01mseaborn\u001b[39;00m \u001b[38;5;28;01mas\u001b[39;00m \u001b[38;5;21;01msns\u001b[39;00m\n\u001b[0;32m      5\u001b[0m \u001b[38;5;66;03m# import dill to save the model\u001b[39;00m\n\u001b[1;32m----> 6\u001b[0m \u001b[38;5;28;01mimport\u001b[39;00m \u001b[38;5;21;01mdill\u001b[39;00m\n\u001b[0;32m      9\u001b[0m \u001b[38;5;28;01mfrom\u001b[39;00m \u001b[38;5;21;01msklearn\u001b[39;00m\u001b[38;5;21;01m.\u001b[39;00m\u001b[38;5;21;01mmodel_selection\u001b[39;00m \u001b[38;5;28;01mimport\u001b[39;00m train_test_split\n\u001b[0;32m     10\u001b[0m \u001b[38;5;28;01mfrom\u001b[39;00m \u001b[38;5;21;01msklearn\u001b[39;00m\u001b[38;5;21;01m.\u001b[39;00m\u001b[38;5;21;01mpreprocessing\u001b[39;00m \u001b[38;5;28;01mimport\u001b[39;00m StandardScaler\n",
      "\u001b[1;31mModuleNotFoundError\u001b[0m: No module named 'dill'"
     ]
    }
   ],
   "source": [
    "import numpy as np\n",
    "import pandas as pd\n",
    "import matplotlib.pyplot as plt\n",
    "import seaborn as sns\n",
    "# import dill to save the model\n",
    "import dill\n",
    "\n",
    "\n",
    "from sklearn.model_selection import train_test_split\n",
    "from sklearn.preprocessing import StandardScaler\n",
    "from sklearn.metrics import r2_score, mean_squared_error, mean_absolute_error\n",
    "from sklearn.model_selection import cross_val_score, GridSearchCV, RandomizedSearchCV\n",
    "from sklearn.pipeline import Pipeline\n",
    "\n",
    "from sklearn.linear_model import LinearRegression, Lasso, Ridge, ElasticNet, RidgeCV, LassoCV, ElasticNetCV, SGDRegressor\n",
    "from sklearn.tree import DecisionTreeRegressor \n",
    "from sklearn.ensemble import RandomForestRegressor, GradientBoostingRegressor, AdaBoostRegressor, BaggingRegressor, ExtraTreesRegressor, VotingRegressor, StackingRegressor\n",
    "from xgboost import XGBRegressor,XGBRFRegressor\n",
    "\n",
    "from sklearn.neural_network import MLPRegressor\n",
    "\n",
    "# Load the data from dill db\n",
    "\n",
    "\n"
   ]
  },
  {
   "cell_type": "markdown",
   "metadata": {},
   "source": [
    "##### Data Description\n",
    "\n",
    "Introduction About the Data : The dataset The goal is to predict price of given diamond (Regression Analysis).\n",
    "\n",
    "There are 10 independent variables (including id):\n",
    "\n",
    "id : unique identifier of each diamond\n",
    "\n",
    "carat : Carat (ct.) refers to the unique unit of weight measurement used exclusively to weigh gemstones and diamonds.\n",
    "\n",
    "cut : Quality of Diamond Cut\n",
    "\n",
    "color : Color of Diamond\n",
    "\n",
    "clarity : Diamond clarity is a measure of the purity and rarity of the stone, graded by the visibility of these characteristics under 10-power magnification.\n",
    "\n",
    "depth : The depth of diamond is its height (in millimeters) measured from the culet (bottom tip) to the table (flat, top surface)\n",
    "\n",
    "table : A diamond's table is the facet which can be seen when the stone is viewed face up.\n",
    "\n",
    "x : Diamond X dimension\n",
    "\n",
    "y : Diamond Y dimension\n",
    "\n",
    "x : Diamond Z dimension\n",
    "\n",
    "Target variable:\n",
    "\n",
    "price: Price of the given Diamond.\n"
   ]
  },
  {
   "cell_type": "code",
   "execution_count": 3,
   "metadata": {},
   "outputs": [
    {
     "data": {
      "text/html": [
       "<div>\n",
       "<style scoped>\n",
       "    .dataframe tbody tr th:only-of-type {\n",
       "        vertical-align: middle;\n",
       "    }\n",
       "\n",
       "    .dataframe tbody tr th {\n",
       "        vertical-align: top;\n",
       "    }\n",
       "\n",
       "    .dataframe thead th {\n",
       "        text-align: right;\n",
       "    }\n",
       "</style>\n",
       "<table border=\"1\" class=\"dataframe\">\n",
       "  <thead>\n",
       "    <tr style=\"text-align: right;\">\n",
       "      <th></th>\n",
       "      <th>id</th>\n",
       "      <th>carat</th>\n",
       "      <th>cut</th>\n",
       "      <th>color</th>\n",
       "      <th>clarity</th>\n",
       "      <th>depth</th>\n",
       "      <th>table</th>\n",
       "      <th>x</th>\n",
       "      <th>y</th>\n",
       "      <th>z</th>\n",
       "      <th>price</th>\n",
       "    </tr>\n",
       "  </thead>\n",
       "  <tbody>\n",
       "    <tr>\n",
       "      <th>0</th>\n",
       "      <td>0</td>\n",
       "      <td>1.52</td>\n",
       "      <td>Premium</td>\n",
       "      <td>F</td>\n",
       "      <td>VS2</td>\n",
       "      <td>62.2</td>\n",
       "      <td>58.0</td>\n",
       "      <td>7.27</td>\n",
       "      <td>7.33</td>\n",
       "      <td>4.55</td>\n",
       "      <td>13619</td>\n",
       "    </tr>\n",
       "    <tr>\n",
       "      <th>1</th>\n",
       "      <td>1</td>\n",
       "      <td>2.03</td>\n",
       "      <td>Very Good</td>\n",
       "      <td>J</td>\n",
       "      <td>SI2</td>\n",
       "      <td>62.0</td>\n",
       "      <td>58.0</td>\n",
       "      <td>8.06</td>\n",
       "      <td>8.12</td>\n",
       "      <td>5.05</td>\n",
       "      <td>13387</td>\n",
       "    </tr>\n",
       "    <tr>\n",
       "      <th>2</th>\n",
       "      <td>2</td>\n",
       "      <td>0.70</td>\n",
       "      <td>Ideal</td>\n",
       "      <td>G</td>\n",
       "      <td>VS1</td>\n",
       "      <td>61.2</td>\n",
       "      <td>57.0</td>\n",
       "      <td>5.69</td>\n",
       "      <td>5.73</td>\n",
       "      <td>3.50</td>\n",
       "      <td>2772</td>\n",
       "    </tr>\n",
       "    <tr>\n",
       "      <th>3</th>\n",
       "      <td>3</td>\n",
       "      <td>0.32</td>\n",
       "      <td>Ideal</td>\n",
       "      <td>G</td>\n",
       "      <td>VS1</td>\n",
       "      <td>61.6</td>\n",
       "      <td>56.0</td>\n",
       "      <td>4.38</td>\n",
       "      <td>4.41</td>\n",
       "      <td>2.71</td>\n",
       "      <td>666</td>\n",
       "    </tr>\n",
       "    <tr>\n",
       "      <th>4</th>\n",
       "      <td>4</td>\n",
       "      <td>1.70</td>\n",
       "      <td>Premium</td>\n",
       "      <td>G</td>\n",
       "      <td>VS2</td>\n",
       "      <td>62.6</td>\n",
       "      <td>59.0</td>\n",
       "      <td>7.65</td>\n",
       "      <td>7.61</td>\n",
       "      <td>4.77</td>\n",
       "      <td>14453</td>\n",
       "    </tr>\n",
       "  </tbody>\n",
       "</table>\n",
       "</div>"
      ],
      "text/plain": [
       "   id  carat        cut color clarity  depth  table     x     y     z  price\n",
       "0   0   1.52    Premium     F     VS2   62.2   58.0  7.27  7.33  4.55  13619\n",
       "1   1   2.03  Very Good     J     SI2   62.0   58.0  8.06  8.12  5.05  13387\n",
       "2   2   0.70      Ideal     G     VS1   61.2   57.0  5.69  5.73  3.50   2772\n",
       "3   3   0.32      Ideal     G     VS1   61.6   56.0  4.38  4.41  2.71    666\n",
       "4   4   1.70    Premium     G     VS2   62.6   59.0  7.65  7.61  4.77  14453"
      ]
     },
     "execution_count": 3,
     "metadata": {},
     "output_type": "execute_result"
    }
   ],
   "source": [
    "data = pd.read_csv('train.csv')\n",
    "data.head()\n"
   ]
  },
  {
   "cell_type": "code",
   "execution_count": 52,
   "metadata": {},
   "outputs": [
    {
     "name": "stdout",
     "output_type": "stream",
     "text": [
      "<class 'pandas.core.frame.DataFrame'>\n",
      "RangeIndex: 193573 entries, 0 to 193572\n",
      "Data columns (total 10 columns):\n",
      " #   Column   Non-Null Count   Dtype  \n",
      "---  ------   --------------   -----  \n",
      " 0   carat    193573 non-null  float64\n",
      " 1   cut      193573 non-null  int64  \n",
      " 2   color    193573 non-null  int64  \n",
      " 3   clarity  193573 non-null  int64  \n",
      " 4   depth    193573 non-null  float64\n",
      " 5   table    193573 non-null  float64\n",
      " 6   x        193573 non-null  float64\n",
      " 7   y        193573 non-null  float64\n",
      " 8   z        193573 non-null  float64\n",
      " 9   price    193573 non-null  int64  \n",
      "dtypes: float64(6), int64(4)\n",
      "memory usage: 14.8 MB\n"
     ]
    }
   ],
   "source": [
    "data.info()"
   ]
  },
  {
   "cell_type": "code",
   "execution_count": 5,
   "metadata": {},
   "outputs": [
    {
     "data": {
      "text/plain": [
       "id         0\n",
       "carat      0\n",
       "cut        0\n",
       "color      0\n",
       "clarity    0\n",
       "depth      0\n",
       "table      0\n",
       "x          0\n",
       "y          0\n",
       "z          0\n",
       "price      0\n",
       "dtype: int64"
      ]
     },
     "execution_count": 5,
     "metadata": {},
     "output_type": "execute_result"
    }
   ],
   "source": [
    "data.isna().sum()"
   ]
  },
  {
   "cell_type": "code",
   "execution_count": 6,
   "metadata": {},
   "outputs": [
    {
     "data": {
      "text/html": [
       "<div>\n",
       "<style scoped>\n",
       "    .dataframe tbody tr th:only-of-type {\n",
       "        vertical-align: middle;\n",
       "    }\n",
       "\n",
       "    .dataframe tbody tr th {\n",
       "        vertical-align: top;\n",
       "    }\n",
       "\n",
       "    .dataframe thead th {\n",
       "        text-align: right;\n",
       "    }\n",
       "</style>\n",
       "<table border=\"1\" class=\"dataframe\">\n",
       "  <thead>\n",
       "    <tr style=\"text-align: right;\">\n",
       "      <th></th>\n",
       "      <th>id</th>\n",
       "      <th>carat</th>\n",
       "      <th>depth</th>\n",
       "      <th>table</th>\n",
       "      <th>x</th>\n",
       "      <th>y</th>\n",
       "      <th>z</th>\n",
       "      <th>price</th>\n",
       "    </tr>\n",
       "  </thead>\n",
       "  <tbody>\n",
       "    <tr>\n",
       "      <th>count</th>\n",
       "      <td>193573.000000</td>\n",
       "      <td>193573.000000</td>\n",
       "      <td>193573.000000</td>\n",
       "      <td>193573.000000</td>\n",
       "      <td>193573.000000</td>\n",
       "      <td>193573.000000</td>\n",
       "      <td>193573.000000</td>\n",
       "      <td>193573.000000</td>\n",
       "    </tr>\n",
       "    <tr>\n",
       "      <th>mean</th>\n",
       "      <td>96786.000000</td>\n",
       "      <td>0.790688</td>\n",
       "      <td>61.820574</td>\n",
       "      <td>57.227675</td>\n",
       "      <td>5.715312</td>\n",
       "      <td>5.720094</td>\n",
       "      <td>3.534246</td>\n",
       "      <td>3969.155414</td>\n",
       "    </tr>\n",
       "    <tr>\n",
       "      <th>std</th>\n",
       "      <td>55879.856166</td>\n",
       "      <td>0.462688</td>\n",
       "      <td>1.081704</td>\n",
       "      <td>1.918844</td>\n",
       "      <td>1.109422</td>\n",
       "      <td>1.102333</td>\n",
       "      <td>0.688922</td>\n",
       "      <td>4034.374138</td>\n",
       "    </tr>\n",
       "    <tr>\n",
       "      <th>min</th>\n",
       "      <td>0.000000</td>\n",
       "      <td>0.200000</td>\n",
       "      <td>52.100000</td>\n",
       "      <td>49.000000</td>\n",
       "      <td>0.000000</td>\n",
       "      <td>0.000000</td>\n",
       "      <td>0.000000</td>\n",
       "      <td>326.000000</td>\n",
       "    </tr>\n",
       "    <tr>\n",
       "      <th>25%</th>\n",
       "      <td>48393.000000</td>\n",
       "      <td>0.400000</td>\n",
       "      <td>61.300000</td>\n",
       "      <td>56.000000</td>\n",
       "      <td>4.700000</td>\n",
       "      <td>4.710000</td>\n",
       "      <td>2.900000</td>\n",
       "      <td>951.000000</td>\n",
       "    </tr>\n",
       "    <tr>\n",
       "      <th>50%</th>\n",
       "      <td>96786.000000</td>\n",
       "      <td>0.700000</td>\n",
       "      <td>61.900000</td>\n",
       "      <td>57.000000</td>\n",
       "      <td>5.700000</td>\n",
       "      <td>5.720000</td>\n",
       "      <td>3.530000</td>\n",
       "      <td>2401.000000</td>\n",
       "    </tr>\n",
       "    <tr>\n",
       "      <th>75%</th>\n",
       "      <td>145179.000000</td>\n",
       "      <td>1.030000</td>\n",
       "      <td>62.400000</td>\n",
       "      <td>58.000000</td>\n",
       "      <td>6.510000</td>\n",
       "      <td>6.510000</td>\n",
       "      <td>4.030000</td>\n",
       "      <td>5408.000000</td>\n",
       "    </tr>\n",
       "    <tr>\n",
       "      <th>max</th>\n",
       "      <td>193572.000000</td>\n",
       "      <td>3.500000</td>\n",
       "      <td>71.600000</td>\n",
       "      <td>79.000000</td>\n",
       "      <td>9.650000</td>\n",
       "      <td>10.010000</td>\n",
       "      <td>31.300000</td>\n",
       "      <td>18818.000000</td>\n",
       "    </tr>\n",
       "  </tbody>\n",
       "</table>\n",
       "</div>"
      ],
      "text/plain": [
       "                  id          carat          depth          table  \\\n",
       "count  193573.000000  193573.000000  193573.000000  193573.000000   \n",
       "mean    96786.000000       0.790688      61.820574      57.227675   \n",
       "std     55879.856166       0.462688       1.081704       1.918844   \n",
       "min         0.000000       0.200000      52.100000      49.000000   \n",
       "25%     48393.000000       0.400000      61.300000      56.000000   \n",
       "50%     96786.000000       0.700000      61.900000      57.000000   \n",
       "75%    145179.000000       1.030000      62.400000      58.000000   \n",
       "max    193572.000000       3.500000      71.600000      79.000000   \n",
       "\n",
       "                   x              y              z          price  \n",
       "count  193573.000000  193573.000000  193573.000000  193573.000000  \n",
       "mean        5.715312       5.720094       3.534246    3969.155414  \n",
       "std         1.109422       1.102333       0.688922    4034.374138  \n",
       "min         0.000000       0.000000       0.000000     326.000000  \n",
       "25%         4.700000       4.710000       2.900000     951.000000  \n",
       "50%         5.700000       5.720000       3.530000    2401.000000  \n",
       "75%         6.510000       6.510000       4.030000    5408.000000  \n",
       "max         9.650000      10.010000      31.300000   18818.000000  "
      ]
     },
     "execution_count": 6,
     "metadata": {},
     "output_type": "execute_result"
    }
   ],
   "source": [
    "data.describe()"
   ]
  },
  {
   "cell_type": "code",
   "execution_count": 7,
   "metadata": {},
   "outputs": [
    {
     "data": {
      "text/plain": [
       "cut\n",
       "Ideal        92454\n",
       "Premium      49910\n",
       "Very Good    37566\n",
       "Good         11622\n",
       "Fair          2021\n",
       "Name: count, dtype: int64"
      ]
     },
     "execution_count": 7,
     "metadata": {},
     "output_type": "execute_result"
    }
   ],
   "source": [
    "data.cut.value_counts()"
   ]
  },
  {
   "cell_type": "code",
   "execution_count": 8,
   "metadata": {},
   "outputs": [
    {
     "data": {
      "text/plain": [
       "color\n",
       "G    44391\n",
       "E    35869\n",
       "F    34258\n",
       "H    30799\n",
       "D    24286\n",
       "I    17514\n",
       "J     6456\n",
       "Name: count, dtype: int64"
      ]
     },
     "execution_count": 8,
     "metadata": {},
     "output_type": "execute_result"
    }
   ],
   "source": [
    "data.color.value_counts()"
   ]
  },
  {
   "cell_type": "code",
   "execution_count": 9,
   "metadata": {},
   "outputs": [
    {
     "data": {
      "text/plain": [
       "clarity\n",
       "SI1     53272\n",
       "VS2     48027\n",
       "VS1     30669\n",
       "SI2     30484\n",
       "VVS2    15762\n",
       "VVS1    10628\n",
       "IF       4219\n",
       "I1        512\n",
       "Name: count, dtype: int64"
      ]
     },
     "execution_count": 9,
     "metadata": {},
     "output_type": "execute_result"
    }
   ],
   "source": [
    "data.clarity.value_counts()"
   ]
  },
  {
   "cell_type": "code",
   "execution_count": 10,
   "metadata": {},
   "outputs": [
    {
     "data": {
      "text/plain": [
       "Index(['id', 'carat', 'cut', 'color', 'clarity', 'depth', 'table', 'x', 'y',\n",
       "       'z', 'price'],\n",
       "      dtype='object')"
      ]
     },
     "execution_count": 10,
     "metadata": {},
     "output_type": "execute_result"
    }
   ],
   "source": [
    "data.columns"
   ]
  },
  {
   "cell_type": "code",
   "execution_count": 11,
   "metadata": {},
   "outputs": [],
   "source": [
    "data.drop('id', axis=1, inplace=True)"
   ]
  },
  {
   "cell_type": "code",
   "execution_count": 12,
   "metadata": {},
   "outputs": [
    {
     "data": {
      "text/html": [
       "<div>\n",
       "<style scoped>\n",
       "    .dataframe tbody tr th:only-of-type {\n",
       "        vertical-align: middle;\n",
       "    }\n",
       "\n",
       "    .dataframe tbody tr th {\n",
       "        vertical-align: top;\n",
       "    }\n",
       "\n",
       "    .dataframe thead th {\n",
       "        text-align: right;\n",
       "    }\n",
       "</style>\n",
       "<table border=\"1\" class=\"dataframe\">\n",
       "  <thead>\n",
       "    <tr style=\"text-align: right;\">\n",
       "      <th></th>\n",
       "      <th>carat</th>\n",
       "      <th>cut</th>\n",
       "      <th>color</th>\n",
       "      <th>clarity</th>\n",
       "      <th>depth</th>\n",
       "      <th>table</th>\n",
       "      <th>x</th>\n",
       "      <th>y</th>\n",
       "      <th>z</th>\n",
       "      <th>price</th>\n",
       "    </tr>\n",
       "  </thead>\n",
       "  <tbody>\n",
       "    <tr>\n",
       "      <th>0</th>\n",
       "      <td>1.52</td>\n",
       "      <td>Premium</td>\n",
       "      <td>F</td>\n",
       "      <td>VS2</td>\n",
       "      <td>62.2</td>\n",
       "      <td>58.0</td>\n",
       "      <td>7.27</td>\n",
       "      <td>7.33</td>\n",
       "      <td>4.55</td>\n",
       "      <td>13619</td>\n",
       "    </tr>\n",
       "    <tr>\n",
       "      <th>1</th>\n",
       "      <td>2.03</td>\n",
       "      <td>Very Good</td>\n",
       "      <td>J</td>\n",
       "      <td>SI2</td>\n",
       "      <td>62.0</td>\n",
       "      <td>58.0</td>\n",
       "      <td>8.06</td>\n",
       "      <td>8.12</td>\n",
       "      <td>5.05</td>\n",
       "      <td>13387</td>\n",
       "    </tr>\n",
       "    <tr>\n",
       "      <th>2</th>\n",
       "      <td>0.70</td>\n",
       "      <td>Ideal</td>\n",
       "      <td>G</td>\n",
       "      <td>VS1</td>\n",
       "      <td>61.2</td>\n",
       "      <td>57.0</td>\n",
       "      <td>5.69</td>\n",
       "      <td>5.73</td>\n",
       "      <td>3.50</td>\n",
       "      <td>2772</td>\n",
       "    </tr>\n",
       "    <tr>\n",
       "      <th>3</th>\n",
       "      <td>0.32</td>\n",
       "      <td>Ideal</td>\n",
       "      <td>G</td>\n",
       "      <td>VS1</td>\n",
       "      <td>61.6</td>\n",
       "      <td>56.0</td>\n",
       "      <td>4.38</td>\n",
       "      <td>4.41</td>\n",
       "      <td>2.71</td>\n",
       "      <td>666</td>\n",
       "    </tr>\n",
       "    <tr>\n",
       "      <th>4</th>\n",
       "      <td>1.70</td>\n",
       "      <td>Premium</td>\n",
       "      <td>G</td>\n",
       "      <td>VS2</td>\n",
       "      <td>62.6</td>\n",
       "      <td>59.0</td>\n",
       "      <td>7.65</td>\n",
       "      <td>7.61</td>\n",
       "      <td>4.77</td>\n",
       "      <td>14453</td>\n",
       "    </tr>\n",
       "    <tr>\n",
       "      <th>...</th>\n",
       "      <td>...</td>\n",
       "      <td>...</td>\n",
       "      <td>...</td>\n",
       "      <td>...</td>\n",
       "      <td>...</td>\n",
       "      <td>...</td>\n",
       "      <td>...</td>\n",
       "      <td>...</td>\n",
       "      <td>...</td>\n",
       "      <td>...</td>\n",
       "    </tr>\n",
       "    <tr>\n",
       "      <th>193568</th>\n",
       "      <td>0.31</td>\n",
       "      <td>Ideal</td>\n",
       "      <td>D</td>\n",
       "      <td>VVS2</td>\n",
       "      <td>61.1</td>\n",
       "      <td>56.0</td>\n",
       "      <td>4.35</td>\n",
       "      <td>4.39</td>\n",
       "      <td>2.67</td>\n",
       "      <td>1130</td>\n",
       "    </tr>\n",
       "    <tr>\n",
       "      <th>193569</th>\n",
       "      <td>0.70</td>\n",
       "      <td>Premium</td>\n",
       "      <td>G</td>\n",
       "      <td>VVS2</td>\n",
       "      <td>60.3</td>\n",
       "      <td>58.0</td>\n",
       "      <td>5.75</td>\n",
       "      <td>5.77</td>\n",
       "      <td>3.47</td>\n",
       "      <td>2874</td>\n",
       "    </tr>\n",
       "    <tr>\n",
       "      <th>193570</th>\n",
       "      <td>0.73</td>\n",
       "      <td>Very Good</td>\n",
       "      <td>F</td>\n",
       "      <td>SI1</td>\n",
       "      <td>63.1</td>\n",
       "      <td>57.0</td>\n",
       "      <td>5.72</td>\n",
       "      <td>5.75</td>\n",
       "      <td>3.62</td>\n",
       "      <td>3036</td>\n",
       "    </tr>\n",
       "    <tr>\n",
       "      <th>193571</th>\n",
       "      <td>0.34</td>\n",
       "      <td>Very Good</td>\n",
       "      <td>D</td>\n",
       "      <td>SI1</td>\n",
       "      <td>62.9</td>\n",
       "      <td>55.0</td>\n",
       "      <td>4.45</td>\n",
       "      <td>4.49</td>\n",
       "      <td>2.81</td>\n",
       "      <td>681</td>\n",
       "    </tr>\n",
       "    <tr>\n",
       "      <th>193572</th>\n",
       "      <td>0.71</td>\n",
       "      <td>Good</td>\n",
       "      <td>E</td>\n",
       "      <td>SI2</td>\n",
       "      <td>60.8</td>\n",
       "      <td>64.0</td>\n",
       "      <td>5.73</td>\n",
       "      <td>5.71</td>\n",
       "      <td>3.48</td>\n",
       "      <td>2258</td>\n",
       "    </tr>\n",
       "  </tbody>\n",
       "</table>\n",
       "<p>193573 rows × 10 columns</p>\n",
       "</div>"
      ],
      "text/plain": [
       "        carat        cut color clarity  depth  table     x     y     z  price\n",
       "0        1.52    Premium     F     VS2   62.2   58.0  7.27  7.33  4.55  13619\n",
       "1        2.03  Very Good     J     SI2   62.0   58.0  8.06  8.12  5.05  13387\n",
       "2        0.70      Ideal     G     VS1   61.2   57.0  5.69  5.73  3.50   2772\n",
       "3        0.32      Ideal     G     VS1   61.6   56.0  4.38  4.41  2.71    666\n",
       "4        1.70    Premium     G     VS2   62.6   59.0  7.65  7.61  4.77  14453\n",
       "...       ...        ...   ...     ...    ...    ...   ...   ...   ...    ...\n",
       "193568   0.31      Ideal     D    VVS2   61.1   56.0  4.35  4.39  2.67   1130\n",
       "193569   0.70    Premium     G    VVS2   60.3   58.0  5.75  5.77  3.47   2874\n",
       "193570   0.73  Very Good     F     SI1   63.1   57.0  5.72  5.75  3.62   3036\n",
       "193571   0.34  Very Good     D     SI1   62.9   55.0  4.45  4.49  2.81    681\n",
       "193572   0.71       Good     E     SI2   60.8   64.0  5.73  5.71  3.48   2258\n",
       "\n",
       "[193573 rows x 10 columns]"
      ]
     },
     "execution_count": 12,
     "metadata": {},
     "output_type": "execute_result"
    }
   ],
   "source": [
    "data"
   ]
  },
  {
   "cell_type": "code",
   "execution_count": 13,
   "metadata": {},
   "outputs": [
    {
     "data": {
      "text/plain": [
       "0"
      ]
     },
     "execution_count": 13,
     "metadata": {},
     "output_type": "execute_result"
    }
   ],
   "source": [
    "data.duplicated().sum()"
   ]
  },
  {
   "cell_type": "markdown",
   "metadata": {},
   "source": [
    "#### EDA"
   ]
  },
  {
   "cell_type": "code",
   "execution_count": 15,
   "metadata": {},
   "outputs": [
    {
     "name": "stdout",
     "output_type": "stream",
     "text": [
      "Numerical Columns: Index(['carat', 'depth', 'table', 'x', 'y', 'z', 'price'], dtype='object')\n",
      "Categorical Columns: Index(['cut', 'color', 'clarity'], dtype='object')\n"
     ]
    }
   ],
   "source": [
    "num_cols = data.select_dtypes(include=np.number).columns\n",
    "cat_cols = data.select_dtypes(exclude=np.number).columns\n",
    "print('Numerical Columns:', num_cols)\n",
    "print('Categorical Columns:', cat_cols)\n"
   ]
  },
  {
   "cell_type": "code",
   "execution_count": 16,
   "metadata": {},
   "outputs": [
    {
     "name": "stdout",
     "output_type": "stream",
     "text": [
      "cut ['Premium' 'Very Good' 'Ideal' 'Good' 'Fair']\n",
      "color ['F' 'J' 'G' 'E' 'D' 'H' 'I']\n",
      "clarity ['VS2' 'SI2' 'VS1' 'SI1' 'IF' 'VVS2' 'VVS1' 'I1']\n"
     ]
    }
   ],
   "source": [
    "for col in cat_cols:\n",
    "    print(col, data[col].unique())"
   ]
  },
  {
   "cell_type": "code",
   "execution_count": 24,
   "metadata": {},
   "outputs": [
    {
     "data": {
      "image/png": "[encoded data removed]",
      "text/plain": [
       "<Figure size 640x480 with 1 Axes>"
      ]
     },
     "metadata": {},
     "output_type": "display_data"
    },
    {
     "data": {
      "image/png": "[encoded data removed]",
      "text/plain": [
       "<Figure size 640x480 with 1 Axes>"
      ]
     },
     "metadata": {},
     "output_type": "display_data"
    },
    {
     "data": {
      "image/png": "[encoded data removed]",
      "text/plain": [
       "<Figure size 640x480 with 1 Axes>"
      ]
     },
     "metadata": {},
     "output_type": "display_data"
    }
   ],
   "source": [
    "for col in cat_cols:\n",
    "    sns.countplot(x=data[col],palette='Set3', hue=data['cut'])\n",
    "    plt.show()"
   ]
  },
  {
   "cell_type": "code",
   "execution_count": 28,
   "metadata": {},
   "outputs": [
    {
     "data": {
      "image/png": "[encoded data removed]",
      "text/plain": [
       "<Figure size 640x480 with 1 Axes>"
      ]
     },
     "metadata": {},
     "output_type": "display_data"
    },
    {
     "data": {
      "image/png": "[encoded data removed]",
      "text/plain": [
       "<Figure size 640x480 with 1 Axes>"
      ]
     },
     "metadata": {},
     "output_type": "display_data"
    },
    {
     "data": {
      "image/png": "[encoded data removed]",
      "text/plain": [
       "<Figure size 640x480 with 1 Axes>"
      ]
     },
     "metadata": {},
     "output_type": "display_data"
    },
    {
     "data": {
      "image/png": "[encoded data removed]",
      "text/plain": [
       "<Figure size 640x480 with 1 Axes>"
      ]
     },
     "metadata": {},
     "output_type": "display_data"
    },
    {
     "data": {
      "image/png": "[encoded data removed]",
      "text/plain": [
       "<Figure size 640x480 with 1 Axes>"
      ]
     },
     "metadata": {},
     "output_type": "display_data"
    },
    {
     "data": {
      "image/png": "[encoded data removed]",
      "text/plain": [
       "<Figure size 640x480 with 1 Axes>"
      ]
     },
     "metadata": {},
     "output_type": "display_data"
    },
    {
     "data": {
      "image/png": "[encoded data removed]",
      "text/plain": [
       "<Figure size 640x480 with 1 Axes>"
      ]
     },
     "metadata": {},
     "output_type": "display_data"
    }
   ],
   "source": [
    "for col in num_cols:\n",
    "    sns.histplot(data[col], kde=True,color='red')\n",
    "    plt.show()"
   ]
  },
  {
   "cell_type": "code",
   "execution_count": 31,
   "metadata": {},
   "outputs": [
    {
     "data": {
      "image/png": "[encoded data removed]",
      "text/plain": [
       "<Figure size 1000x600 with 2 Axes>"
      ]
     },
     "metadata": {},
     "output_type": "display_data"
    }
   ],
   "source": [
    "# Correlation Matrix\n",
    "\n",
    "plt.figure(figsize=(10, 6))\n",
    "sns.heatmap(data[num_cols].corr(), annot=True, cmap='magma')\n",
    "plt.show()\n"
   ]
  },
  {
   "cell_type": "code",
   "execution_count": 32,
   "metadata": {},
   "outputs": [
    {
     "data": {
      "image/png": "[encoded data removed]",
      "text/plain": [
       "<Figure size 640x480 with 1 Axes>"
      ]
     },
     "metadata": {},
     "output_type": "display_data"
    },
    {
     "data": {
      "image/png": "[encoded data removed]",
      "text/plain": [
       "<Figure size 640x480 with 1 Axes>"
      ]
     },
     "metadata": {},
     "output_type": "display_data"
    },
    {
     "data": {
      "image/png": "[encoded data removed]",
      "text/plain": [
       "<Figure size 640x480 with 1 Axes>"
      ]
     },
     "metadata": {},
     "output_type": "display_data"
    },
    {
     "data": {
      "image/png": "[encoded data removed]",
      "text/plain": [
       "<Figure size 640x480 with 1 Axes>"
      ]
     },
     "metadata": {},
     "output_type": "display_data"
    },
    {
     "data": {
      "image/png": "[encoded data removed]",
      "text/plain": [
       "<Figure size 640x480 with 1 Axes>"
      ]
     },
     "metadata": {},
     "output_type": "display_data"
    },
    {
     "data": {
      "image/png": "[encoded data removed]",
      "text/plain": [
       "<Figure size 640x480 with 1 Axes>"
      ]
     },
     "metadata": {},
     "output_type": "display_data"
    },
    {
     "data": {
      "image/png": "[encoded data removed]",
      "text/plain": [
       "<Figure size 640x480 with 1 Axes>"
      ]
     },
     "metadata": {},
     "output_type": "display_data"
    }
   ],
   "source": [
    "# Outliers\n",
    "\n",
    "for col in num_cols:\n",
    "    sns.boxplot(data[col])\n",
    "    plt.show()"
   ]
  },
  {
   "cell_type": "code",
   "execution_count": 33,
   "metadata": {},
   "outputs": [
    {
     "data": {
      "text/html": [
       "<div>\n",
       "<style scoped>\n",
       "    .dataframe tbody tr th:only-of-type {\n",
       "        vertical-align: middle;\n",
       "    }\n",
       "\n",
       "    .dataframe tbody tr th {\n",
       "        vertical-align: top;\n",
       "    }\n",
       "\n",
       "    .dataframe thead th {\n",
       "        text-align: right;\n",
       "    }\n",
       "</style>\n",
       "<table border=\"1\" class=\"dataframe\">\n",
       "  <thead>\n",
       "    <tr style=\"text-align: right;\">\n",
       "      <th></th>\n",
       "      <th>carat</th>\n",
       "      <th>cut</th>\n",
       "      <th>color</th>\n",
       "      <th>clarity</th>\n",
       "      <th>depth</th>\n",
       "      <th>table</th>\n",
       "      <th>x</th>\n",
       "      <th>y</th>\n",
       "      <th>z</th>\n",
       "      <th>price</th>\n",
       "    </tr>\n",
       "  </thead>\n",
       "  <tbody>\n",
       "    <tr>\n",
       "      <th>0</th>\n",
       "      <td>1.52</td>\n",
       "      <td>Premium</td>\n",
       "      <td>F</td>\n",
       "      <td>VS2</td>\n",
       "      <td>62.2</td>\n",
       "      <td>58.0</td>\n",
       "      <td>7.27</td>\n",
       "      <td>7.33</td>\n",
       "      <td>4.55</td>\n",
       "      <td>13619</td>\n",
       "    </tr>\n",
       "    <tr>\n",
       "      <th>1</th>\n",
       "      <td>2.03</td>\n",
       "      <td>Very Good</td>\n",
       "      <td>J</td>\n",
       "      <td>SI2</td>\n",
       "      <td>62.0</td>\n",
       "      <td>58.0</td>\n",
       "      <td>8.06</td>\n",
       "      <td>8.12</td>\n",
       "      <td>5.05</td>\n",
       "      <td>13387</td>\n",
       "    </tr>\n",
       "    <tr>\n",
       "      <th>2</th>\n",
       "      <td>0.70</td>\n",
       "      <td>Ideal</td>\n",
       "      <td>G</td>\n",
       "      <td>VS1</td>\n",
       "      <td>61.2</td>\n",
       "      <td>57.0</td>\n",
       "      <td>5.69</td>\n",
       "      <td>5.73</td>\n",
       "      <td>3.50</td>\n",
       "      <td>2772</td>\n",
       "    </tr>\n",
       "    <tr>\n",
       "      <th>3</th>\n",
       "      <td>0.32</td>\n",
       "      <td>Ideal</td>\n",
       "      <td>G</td>\n",
       "      <td>VS1</td>\n",
       "      <td>61.6</td>\n",
       "      <td>56.0</td>\n",
       "      <td>4.38</td>\n",
       "      <td>4.41</td>\n",
       "      <td>2.71</td>\n",
       "      <td>666</td>\n",
       "    </tr>\n",
       "    <tr>\n",
       "      <th>4</th>\n",
       "      <td>1.70</td>\n",
       "      <td>Premium</td>\n",
       "      <td>G</td>\n",
       "      <td>VS2</td>\n",
       "      <td>62.6</td>\n",
       "      <td>59.0</td>\n",
       "      <td>7.65</td>\n",
       "      <td>7.61</td>\n",
       "      <td>4.77</td>\n",
       "      <td>14453</td>\n",
       "    </tr>\n",
       "    <tr>\n",
       "      <th>5</th>\n",
       "      <td>1.51</td>\n",
       "      <td>Very Good</td>\n",
       "      <td>J</td>\n",
       "      <td>SI1</td>\n",
       "      <td>62.8</td>\n",
       "      <td>58.0</td>\n",
       "      <td>7.34</td>\n",
       "      <td>7.29</td>\n",
       "      <td>4.59</td>\n",
       "      <td>7506</td>\n",
       "    </tr>\n",
       "    <tr>\n",
       "      <th>6</th>\n",
       "      <td>0.74</td>\n",
       "      <td>Ideal</td>\n",
       "      <td>E</td>\n",
       "      <td>VS2</td>\n",
       "      <td>61.8</td>\n",
       "      <td>57.0</td>\n",
       "      <td>5.76</td>\n",
       "      <td>5.79</td>\n",
       "      <td>3.57</td>\n",
       "      <td>3229</td>\n",
       "    </tr>\n",
       "    <tr>\n",
       "      <th>7</th>\n",
       "      <td>1.34</td>\n",
       "      <td>Premium</td>\n",
       "      <td>G</td>\n",
       "      <td>SI2</td>\n",
       "      <td>62.5</td>\n",
       "      <td>57.0</td>\n",
       "      <td>7.00</td>\n",
       "      <td>7.05</td>\n",
       "      <td>4.38</td>\n",
       "      <td>6224</td>\n",
       "    </tr>\n",
       "    <tr>\n",
       "      <th>8</th>\n",
       "      <td>0.30</td>\n",
       "      <td>Ideal</td>\n",
       "      <td>F</td>\n",
       "      <td>IF</td>\n",
       "      <td>62.0</td>\n",
       "      <td>56.0</td>\n",
       "      <td>4.35</td>\n",
       "      <td>4.37</td>\n",
       "      <td>2.70</td>\n",
       "      <td>886</td>\n",
       "    </tr>\n",
       "    <tr>\n",
       "      <th>9</th>\n",
       "      <td>0.30</td>\n",
       "      <td>Good</td>\n",
       "      <td>J</td>\n",
       "      <td>VS1</td>\n",
       "      <td>63.6</td>\n",
       "      <td>57.0</td>\n",
       "      <td>4.26</td>\n",
       "      <td>4.28</td>\n",
       "      <td>2.72</td>\n",
       "      <td>421</td>\n",
       "    </tr>\n",
       "  </tbody>\n",
       "</table>\n",
       "</div>"
      ],
      "text/plain": [
       "   carat        cut color clarity  depth  table     x     y     z  price\n",
       "0   1.52    Premium     F     VS2   62.2   58.0  7.27  7.33  4.55  13619\n",
       "1   2.03  Very Good     J     SI2   62.0   58.0  8.06  8.12  5.05  13387\n",
       "2   0.70      Ideal     G     VS1   61.2   57.0  5.69  5.73  3.50   2772\n",
       "3   0.32      Ideal     G     VS1   61.6   56.0  4.38  4.41  2.71    666\n",
       "4   1.70    Premium     G     VS2   62.6   59.0  7.65  7.61  4.77  14453\n",
       "5   1.51  Very Good     J     SI1   62.8   58.0  7.34  7.29  4.59   7506\n",
       "6   0.74      Ideal     E     VS2   61.8   57.0  5.76  5.79  3.57   3229\n",
       "7   1.34    Premium     G     SI2   62.5   57.0  7.00  7.05  4.38   6224\n",
       "8   0.30      Ideal     F      IF   62.0   56.0  4.35  4.37  2.70    886\n",
       "9   0.30       Good     J     VS1   63.6   57.0  4.26  4.28  2.72    421"
      ]
     },
     "execution_count": 33,
     "metadata": {},
     "output_type": "execute_result"
    }
   ],
   "source": [
    "data.head(10)"
   ]
  },
  {
   "cell_type": "markdown",
   "metadata": {},
   "source": [
    "##### Feature Engineering"
   ]
  },
  {
   "cell_type": "code",
   "execution_count": 34,
   "metadata": {},
   "outputs": [
    {
     "data": {
      "text/html": [
       "<div>\n",
       "<style scoped>\n",
       "    .dataframe tbody tr th:only-of-type {\n",
       "        vertical-align: middle;\n",
       "    }\n",
       "\n",
       "    .dataframe tbody tr th {\n",
       "        vertical-align: top;\n",
       "    }\n",
       "\n",
       "    .dataframe thead th {\n",
       "        text-align: right;\n",
       "    }\n",
       "</style>\n",
       "<table border=\"1\" class=\"dataframe\">\n",
       "  <thead>\n",
       "    <tr style=\"text-align: right;\">\n",
       "      <th></th>\n",
       "      <th>carat</th>\n",
       "      <th>cut</th>\n",
       "      <th>color</th>\n",
       "      <th>clarity</th>\n",
       "      <th>depth</th>\n",
       "      <th>table</th>\n",
       "      <th>x</th>\n",
       "      <th>y</th>\n",
       "      <th>z</th>\n",
       "      <th>price</th>\n",
       "    </tr>\n",
       "  </thead>\n",
       "  <tbody>\n",
       "    <tr>\n",
       "      <th>0</th>\n",
       "      <td>1.52</td>\n",
       "      <td>4</td>\n",
       "      <td>F</td>\n",
       "      <td>4</td>\n",
       "      <td>62.2</td>\n",
       "      <td>58.0</td>\n",
       "      <td>7.27</td>\n",
       "      <td>7.33</td>\n",
       "      <td>4.55</td>\n",
       "      <td>13619</td>\n",
       "    </tr>\n",
       "    <tr>\n",
       "      <th>1</th>\n",
       "      <td>2.03</td>\n",
       "      <td>3</td>\n",
       "      <td>J</td>\n",
       "      <td>2</td>\n",
       "      <td>62.0</td>\n",
       "      <td>58.0</td>\n",
       "      <td>8.06</td>\n",
       "      <td>8.12</td>\n",
       "      <td>5.05</td>\n",
       "      <td>13387</td>\n",
       "    </tr>\n",
       "    <tr>\n",
       "      <th>2</th>\n",
       "      <td>0.70</td>\n",
       "      <td>5</td>\n",
       "      <td>G</td>\n",
       "      <td>5</td>\n",
       "      <td>61.2</td>\n",
       "      <td>57.0</td>\n",
       "      <td>5.69</td>\n",
       "      <td>5.73</td>\n",
       "      <td>3.50</td>\n",
       "      <td>2772</td>\n",
       "    </tr>\n",
       "    <tr>\n",
       "      <th>3</th>\n",
       "      <td>0.32</td>\n",
       "      <td>5</td>\n",
       "      <td>G</td>\n",
       "      <td>5</td>\n",
       "      <td>61.6</td>\n",
       "      <td>56.0</td>\n",
       "      <td>4.38</td>\n",
       "      <td>4.41</td>\n",
       "      <td>2.71</td>\n",
       "      <td>666</td>\n",
       "    </tr>\n",
       "    <tr>\n",
       "      <th>4</th>\n",
       "      <td>1.70</td>\n",
       "      <td>4</td>\n",
       "      <td>G</td>\n",
       "      <td>4</td>\n",
       "      <td>62.6</td>\n",
       "      <td>59.0</td>\n",
       "      <td>7.65</td>\n",
       "      <td>7.61</td>\n",
       "      <td>4.77</td>\n",
       "      <td>14453</td>\n",
       "    </tr>\n",
       "  </tbody>\n",
       "</table>\n",
       "</div>"
      ],
      "text/plain": [
       "   carat  cut color  clarity  depth  table     x     y     z  price\n",
       "0   1.52    4     F        4   62.2   58.0  7.27  7.33  4.55  13619\n",
       "1   2.03    3     J        2   62.0   58.0  8.06  8.12  5.05  13387\n",
       "2   0.70    5     G        5   61.2   57.0  5.69  5.73  3.50   2772\n",
       "3   0.32    5     G        5   61.6   56.0  4.38  4.41  2.71    666\n",
       "4   1.70    4     G        4   62.6   59.0  7.65  7.61  4.77  14453"
      ]
     },
     "execution_count": 34,
     "metadata": {},
     "output_type": "execute_result"
    }
   ],
   "source": [
    "#Encoding\n",
    "\n",
    "cut_map = {'Fair': 1, 'Good': 2, 'Very Good': 3, 'Premium': 4, 'Ideal': 5}\n",
    "clarity_map = {'I1': 1, 'SI2': 2, 'SI1': 3, 'VS2': 4, 'VS1': 5, 'VVS2': 6, 'VVS1': 7, 'IF': 8}\n",
    "\n",
    "\n",
    "data['cut'] = data['cut'].map(cut_map)\n",
    "data['clarity'] = data['clarity'].map(clarity_map)\n",
    "\n",
    "data.head()\n"
   ]
  },
  {
   "cell_type": "code",
   "execution_count": 36,
   "metadata": {},
   "outputs": [
    {
     "data": {
      "text/html": [
       "<div>\n",
       "<style scoped>\n",
       "    .dataframe tbody tr th:only-of-type {\n",
       "        vertical-align: middle;\n",
       "    }\n",
       "\n",
       "    .dataframe tbody tr th {\n",
       "        vertical-align: top;\n",
       "    }\n",
       "\n",
       "    .dataframe thead th {\n",
       "        text-align: right;\n",
       "    }\n",
       "</style>\n",
       "<table border=\"1\" class=\"dataframe\">\n",
       "  <thead>\n",
       "    <tr style=\"text-align: right;\">\n",
       "      <th></th>\n",
       "      <th>carat</th>\n",
       "      <th>cut</th>\n",
       "      <th>color</th>\n",
       "      <th>clarity</th>\n",
       "      <th>depth</th>\n",
       "      <th>table</th>\n",
       "      <th>x</th>\n",
       "      <th>y</th>\n",
       "      <th>z</th>\n",
       "      <th>price</th>\n",
       "    </tr>\n",
       "  </thead>\n",
       "  <tbody>\n",
       "    <tr>\n",
       "      <th>0</th>\n",
       "      <td>1.52</td>\n",
       "      <td>4</td>\n",
       "      <td>5</td>\n",
       "      <td>4</td>\n",
       "      <td>62.2</td>\n",
       "      <td>58.0</td>\n",
       "      <td>7.27</td>\n",
       "      <td>7.33</td>\n",
       "      <td>4.55</td>\n",
       "      <td>13619</td>\n",
       "    </tr>\n",
       "    <tr>\n",
       "      <th>1</th>\n",
       "      <td>2.03</td>\n",
       "      <td>3</td>\n",
       "      <td>1</td>\n",
       "      <td>2</td>\n",
       "      <td>62.0</td>\n",
       "      <td>58.0</td>\n",
       "      <td>8.06</td>\n",
       "      <td>8.12</td>\n",
       "      <td>5.05</td>\n",
       "      <td>13387</td>\n",
       "    </tr>\n",
       "    <tr>\n",
       "      <th>2</th>\n",
       "      <td>0.70</td>\n",
       "      <td>5</td>\n",
       "      <td>4</td>\n",
       "      <td>5</td>\n",
       "      <td>61.2</td>\n",
       "      <td>57.0</td>\n",
       "      <td>5.69</td>\n",
       "      <td>5.73</td>\n",
       "      <td>3.50</td>\n",
       "      <td>2772</td>\n",
       "    </tr>\n",
       "    <tr>\n",
       "      <th>3</th>\n",
       "      <td>0.32</td>\n",
       "      <td>5</td>\n",
       "      <td>4</td>\n",
       "      <td>5</td>\n",
       "      <td>61.6</td>\n",
       "      <td>56.0</td>\n",
       "      <td>4.38</td>\n",
       "      <td>4.41</td>\n",
       "      <td>2.71</td>\n",
       "      <td>666</td>\n",
       "    </tr>\n",
       "    <tr>\n",
       "      <th>4</th>\n",
       "      <td>1.70</td>\n",
       "      <td>4</td>\n",
       "      <td>4</td>\n",
       "      <td>4</td>\n",
       "      <td>62.6</td>\n",
       "      <td>59.0</td>\n",
       "      <td>7.65</td>\n",
       "      <td>7.61</td>\n",
       "      <td>4.77</td>\n",
       "      <td>14453</td>\n",
       "    </tr>\n",
       "  </tbody>\n",
       "</table>\n",
       "</div>"
      ],
      "text/plain": [
       "   carat  cut  color  clarity  depth  table     x     y     z  price\n",
       "0   1.52    4      5        4   62.2   58.0  7.27  7.33  4.55  13619\n",
       "1   2.03    3      1        2   62.0   58.0  8.06  8.12  5.05  13387\n",
       "2   0.70    5      4        5   61.2   57.0  5.69  5.73  3.50   2772\n",
       "3   0.32    5      4        5   61.6   56.0  4.38  4.41  2.71    666\n",
       "4   1.70    4      4        4   62.6   59.0  7.65  7.61  4.77  14453"
      ]
     },
     "execution_count": 36,
     "metadata": {},
     "output_type": "execute_result"
    }
   ],
   "source": [
    "color_map = {'J': 1, 'I': 2, 'H': 3, 'G': 4, 'F': 5, 'E': 6, 'D': 7}\n",
    "\n",
    "data['color'] = data['color'].map(color_map)\n",
    "\n",
    "data.head()"
   ]
  },
  {
   "cell_type": "code",
   "execution_count": 38,
   "metadata": {},
   "outputs": [],
   "source": [
    "X = data.drop('price', axis=1)\n",
    "y = data['price']\n",
    "\n"
   ]
  },
  {
   "cell_type": "code",
   "execution_count": 41,
   "metadata": {},
   "outputs": [],
   "source": [
    "X_train, X_test, y_train, y_test = train_test_split(X, y, test_size=0.25, random_state=42)\n",
    "\n",
    "scaler = StandardScaler()\n",
    "X_train = scaler.fit_transform(X_train)\n",
    "X_test = scaler.transform(X_test)\n",
    "\n"
   ]
  },
  {
   "cell_type": "code",
   "execution_count": 44,
   "metadata": {},
   "outputs": [
    {
     "name": "stdout",
     "output_type": "stream",
     "text": [
      "R2 Score: 0.9361253831282493\n",
      "Mean Squared Error: 1036646.0469698338\n",
      "Mean Absolute Error: 675.8646403365949\n",
      "Cross Validation Score: 0.9366825076794211\n"
     ]
    }
   ],
   "source": [
    "lr = LinearRegression()\n",
    "lr.fit(X_train, y_train)\n",
    "y_pred = lr.predict(X_test)\n",
    "\n",
    "print('R2 Score:', r2_score(y_test, y_pred))\n",
    "print('Mean Squared Error:', mean_squared_error(y_test, y_pred))\n",
    "print('Mean Absolute Error:', mean_absolute_error(y_test, y_pred))\n",
    "\n",
    "print('Cross Validation Score:', cross_val_score(lr, X_train, y_train, cv=5).mean())"
   ]
  },
  {
   "cell_type": "code",
   "execution_count": 51,
   "metadata": {},
   "outputs": [
    {
     "data": {
      "text/plain": [
       "{'copy_X': True, 'fit_intercept': True, 'n_jobs': None, 'positive': False}"
      ]
     },
     "execution_count": 51,
     "metadata": {},
     "output_type": "execute_result"
    }
   ],
   "source": [
    "# get all parameters of the model\n",
    "lr.get_params()\n"
   ]
  },
  {
   "cell_type": "code",
   "execution_count": 67,
   "metadata": {},
   "outputs": [
    {
     "name": "stdout",
     "output_type": "stream",
     "text": [
      "Fitting 5 folds for each of 96 candidates, totalling 480 fits\n",
      "R2 Score: 0.9361244154952857\n",
      "Mean Squared Error: 1036661.7510622542\n",
      "Mean Absolute Error: 675.8382639906307\n",
      "best parameters: {'sgd__alpha': 0.0001, 'sgd__eta0': 0.01, 'sgd__learning_rate': 'adaptive', 'sgd__max_iter': 2000, 'sgd__penalty': 'l1', 'sgd__tol': 0.0001}\n"
     ]
    }
   ],
   "source": [
    "sgd_pipe = Pipeline([ ('sgd', SGDRegressor())])\n",
    "\n",
    "param_grid = {\n",
    "    'sgd__alpha': [0.0001, 0.001,],\n",
    "    'sgd__max_iter': [1000, 2000, 3000,4000],\n",
    "    'sgd__penalty': ['l1', 'l2'],\n",
    "    'sgd__learning_rate': ['adaptive'],\n",
    "    'sgd__eta0': [0.01, 0.1,],\n",
    "    'sgd__tol': [1e-3, 1e-4, 1e-5]\n",
    "\n",
    "\n",
    "\n",
    "}\n",
    "\n",
    "sgd_grid = GridSearchCV(sgd_pipe, param_grid, cv=5, n_jobs=-1,verbose=2)\n",
    "sgd_grid.fit(X_train, y_train)\n",
    "y_pred = sgd_grid.predict(X_test)\n",
    "\n",
    "print('R2 Score:', r2_score(y_test, y_pred))\n",
    "print('Mean Squared Error:', mean_squared_error(y_test, y_pred))\n",
    "print('Mean Absolute Error:', mean_absolute_error(y_test, y_pred))\n",
    "print('best parameters:', sgd_grid.best_params_)\n",
    "\n",
    "\n"
   ]
  },
  {
   "cell_type": "code",
   "execution_count": 2,
   "metadata": {},
   "outputs": [
    {
     "data": {
      "text/plain": [
       "{'memory': None,\n",
       " 'steps': [('sgd',\n",
       "   SGDRegressor(learning_rate='adaptive', max_iter=2000, penalty='l1', tol=0.0001))],\n",
       " 'verbose': False,\n",
       " 'sgd': SGDRegressor(learning_rate='adaptive', max_iter=2000, penalty='l1', tol=0.0001),\n",
       " 'sgd__alpha': 0.0001,\n",
       " 'sgd__average': False,\n",
       " 'sgd__early_stopping': False,\n",
       " 'sgd__epsilon': 0.1,\n",
       " 'sgd__eta0': 0.01,\n",
       " 'sgd__fit_intercept': True,\n",
       " 'sgd__l1_ratio': 0.15,\n",
       " 'sgd__learning_rate': 'adaptive',\n",
       " 'sgd__loss': 'squared_error',\n",
       " 'sgd__max_iter': 2000,\n",
       " 'sgd__n_iter_no_change': 5,\n",
       " 'sgd__penalty': 'l1',\n",
       " 'sgd__power_t': 0.25,\n",
       " 'sgd__random_state': None,\n",
       " 'sgd__shuffle': True,\n",
       " 'sgd__tol': 0.0001,\n",
       " 'sgd__validation_fraction': 0.1,\n",
       " 'sgd__verbose': 0,\n",
       " 'sgd__warm_start': False}"
      ]
     },
     "execution_count": 2,
     "metadata": {},
     "output_type": "execute_result"
    }
   ],
   "source": [
    "sgd_grid.best_estimator_.get_params()"
   ]
  },
  {
   "cell_type": "code",
   "execution_count": 11,
   "metadata": {},
   "outputs": [
    {
     "name": "stdout",
     "output_type": "stream",
     "text": [
      "Fitting 5 folds for each of 6 candidates, totalling 30 fits\n",
      "R2 Score: 0.9361244831004386\n",
      "Mean Squared Error: 1036660.6538718842\n",
      "best parameters: {'ridge__alphas': 0.0003}\n"
     ]
    },
    {
     "data": {
      "text/plain": [
       "{'memory': None,\n",
       " 'steps': [('ridge', RidgeCV(alphas=0.0003))],\n",
       " 'verbose': False,\n",
       " 'ridge': RidgeCV(alphas=0.0003),\n",
       " 'ridge__alpha_per_target': False,\n",
       " 'ridge__alphas': 0.0003,\n",
       " 'ridge__cv': None,\n",
       " 'ridge__fit_intercept': True,\n",
       " 'ridge__gcv_mode': None,\n",
       " 'ridge__scoring': None,\n",
       " 'ridge__store_cv_results': None,\n",
       " 'ridge__store_cv_values': 'deprecated'}"
      ]
     },
     "execution_count": 11,
     "metadata": {},
     "output_type": "execute_result"
    }
   ],
   "source": [
    "# ridge cv\n",
    "\n",
    "ridge_pipe = Pipeline([('ridge', RidgeCV())])\n",
    "\n",
    "param_grid = {\n",
    "    'ridge__alphas': [(0.1, 1.0, 10.0), (0.1, 0.5, 1.0), (0.1, 0.2, 0.3, 0.4, 0.5),(0.001, 0.01, 0.1),  (0.0001, 0.001, 0.01),(0.0003)],\n",
    "}\n",
    "\n",
    "ridge_grid = GridSearchCV(ridge_pipe, param_grid, cv=5, n_jobs=-1, verbose=2)\n",
    "ridge_grid.fit(X_train, y_train)\n",
    "y_pred = ridge_grid.predict(X_test)\n",
    "\n",
    "print('R2 Score:', r2_score(y_test, y_pred))\n",
    "print('Mean Squared Error:', mean_squared_error(y_test, y_pred))\n",
    "\n",
    "print('best parameters:', ridge_grid.best_params_)\n",
    "ridge_grid.best_estimator_.get_params()\n",
    "\n"
   ]
  },
  {
   "cell_type": "code",
   "execution_count": 15,
   "metadata": {},
   "outputs": [
    {
     "name": "stdout",
     "output_type": "stream",
     "text": [
      "Fitting 5 folds for each of 5 candidates, totalling 25 fits\n"
     ]
    },
    {
     "name": "stderr",
     "output_type": "stream",
     "text": [
      "c:\\Users\\IIISI\\OneDrive\\Documents\\py\\mlops\\firste2eml\\env\\Lib\\site-packages\\sklearn\\model_selection\\_validation.py:540: FitFailedWarning: \n",
      "5 fits failed out of a total of 25.\n",
      "The score on these train-test partitions for these parameters will be set to nan.\n",
      "If these failures are not expected, you can try to debug them by setting error_score='raise'.\n",
      "\n",
      "Below are more details about the failures:\n",
      "--------------------------------------------------------------------------------\n",
      "5 fits failed with the following error:\n",
      "Traceback (most recent call last):\n",
      "  File \"c:\\Users\\IIISI\\OneDrive\\Documents\\py\\mlops\\firste2eml\\env\\Lib\\site-packages\\sklearn\\model_selection\\_validation.py\", line 888, in _fit_and_score\n",
      "    estimator.fit(X_train, y_train, **fit_params)\n",
      "  File \"c:\\Users\\IIISI\\OneDrive\\Documents\\py\\mlops\\firste2eml\\env\\Lib\\site-packages\\sklearn\\base.py\", line 1473, in wrapper\n",
      "    return fit_method(estimator, *args, **kwargs)\n",
      "           ^^^^^^^^^^^^^^^^^^^^^^^^^^^^^^^^^^^^^^\n",
      "  File \"c:\\Users\\IIISI\\OneDrive\\Documents\\py\\mlops\\firste2eml\\env\\Lib\\site-packages\\sklearn\\pipeline.py\", line 473, in fit\n",
      "    self._final_estimator.fit(Xt, y, **last_step_params[\"fit\"])\n",
      "  File \"c:\\Users\\IIISI\\OneDrive\\Documents\\py\\mlops\\firste2eml\\env\\Lib\\site-packages\\sklearn\\base.py\", line 1466, in wrapper\n",
      "    estimator._validate_params()\n",
      "  File \"c:\\Users\\IIISI\\OneDrive\\Documents\\py\\mlops\\firste2eml\\env\\Lib\\site-packages\\sklearn\\base.py\", line 666, in _validate_params\n",
      "    validate_parameter_constraints(\n",
      "  File \"c:\\Users\\IIISI\\OneDrive\\Documents\\py\\mlops\\firste2eml\\env\\Lib\\site-packages\\sklearn\\utils\\_param_validation.py\", line 95, in validate_parameter_constraints\n",
      "    raise InvalidParameterError(\n",
      "sklearn.utils._param_validation.InvalidParameterError: The 'alphas' parameter of LassoCV must be an array-like or None. Got 0.0003 instead.\n",
      "\n",
      "  warnings.warn(some_fits_failed_message, FitFailedWarning)\n",
      "c:\\Users\\IIISI\\OneDrive\\Documents\\py\\mlops\\firste2eml\\env\\Lib\\site-packages\\sklearn\\model_selection\\_search.py:1102: UserWarning: One or more of the test scores are non-finite: [0.93672743 0.93676746 0.9367716  0.93673314        nan]\n",
      "  warnings.warn(\n"
     ]
    },
    {
     "name": "stdout",
     "output_type": "stream",
     "text": [
      "R2 Score: 0.9361187783024691\n",
      "Mean Squared Error: 1036753.2392610973\n",
      "Mean Absolute Error: 676.5047031459931\n",
      "best parameters: {'lasso__alphas': (0.1, 0.2, 0.3, 0.4, 0.5)}\n"
     ]
    },
    {
     "data": {
      "text/plain": [
       "{'memory': None,\n",
       " 'steps': [('lasso', LassoCV(alphas=(0.1, 0.2, 0.3, 0.4, 0.5)))],\n",
       " 'verbose': False,\n",
       " 'lasso': LassoCV(alphas=(0.1, 0.2, 0.3, 0.4, 0.5)),\n",
       " 'lasso__alphas': (0.1, 0.2, 0.3, 0.4, 0.5),\n",
       " 'lasso__copy_X': True,\n",
       " 'lasso__cv': None,\n",
       " 'lasso__eps': 0.001,\n",
       " 'lasso__fit_intercept': True,\n",
       " 'lasso__max_iter': 1000,\n",
       " 'lasso__n_alphas': 100,\n",
       " 'lasso__n_jobs': None,\n",
       " 'lasso__positive': False,\n",
       " 'lasso__precompute': 'auto',\n",
       " 'lasso__random_state': None,\n",
       " 'lasso__selection': 'cyclic',\n",
       " 'lasso__tol': 0.0001,\n",
       " 'lasso__verbose': False}"
      ]
     },
     "execution_count": 15,
     "metadata": {},
     "output_type": "execute_result"
    }
   ],
   "source": [
    "# lasso cv\n",
    "\n",
    "lasso_pipe = Pipeline([('lasso', LassoCV())])\n",
    "\n",
    "param_grid = {\n",
    "    'lasso__alphas': [(0.1, 1.0, 10.0), (0.1, 0.5, 1.0), (0.1, 0.2, 0.3, 0.4, 0.5),(0.0001, 0.001, 0.01),(0.0003)],\n",
    "}\n",
    "\n",
    "lasso_grid = GridSearchCV(lasso_pipe, param_grid, cv=5, n_jobs=-1, verbose=2)\n",
    "\n",
    "lasso_grid.fit(X_train, y_train)\n",
    "\n",
    "y_pred = lasso_grid.predict(X_test)\n",
    "\n",
    "print('R2 Score:', r2_score(y_test, y_pred))\n",
    "\n",
    "print('Mean Squared Error:', mean_squared_error(y_test, y_pred))\n",
    "print('Mean Absolute Error:', mean_absolute_error(y_test, y_pred))\n",
    "print('best parameters:', lasso_grid.best_params_)\n",
    "\n",
    "lasso_grid.best_estimator_.get_params()\n",
    "\n"
   ]
  },
  {
   "cell_type": "code",
   "execution_count": 5,
   "metadata": {},
   "outputs": [
    {
     "name": "stdout",
     "output_type": "stream",
     "text": [
      "Fitting 5 folds for each of 1 candidates, totalling 5 fits\n",
      "R2 Score: 0.9361224089045455\n",
      "Mean Squared Error: 1036694.3168052783\n",
      "Mean Absolute Error: 676.0774266555765\n",
      "best parameters: {'elastic__alphas': (0.0001, 0.001, 0.01), 'elastic__l1_ratio': 0.5, 'elastic__max_iter': 8000}\n"
     ]
    },
    {
     "data": {
      "text/plain": [
       "{'memory': None,\n",
       " 'steps': [('elastic',\n",
       "   ElasticNetCV(alphas=(0.0001, 0.001, 0.01), max_iter=8000))],\n",
       " 'verbose': False,\n",
       " 'elastic': ElasticNetCV(alphas=(0.0001, 0.001, 0.01), max_iter=8000),\n",
       " 'elastic__alphas': (0.0001, 0.001, 0.01),\n",
       " 'elastic__copy_X': True,\n",
       " 'elastic__cv': None,\n",
       " 'elastic__eps': 0.001,\n",
       " 'elastic__fit_intercept': True,\n",
       " 'elastic__l1_ratio': 0.5,\n",
       " 'elastic__max_iter': 8000,\n",
       " 'elastic__n_alphas': 100,\n",
       " 'elastic__n_jobs': None,\n",
       " 'elastic__positive': False,\n",
       " 'elastic__precompute': 'auto',\n",
       " 'elastic__random_state': None,\n",
       " 'elastic__selection': 'cyclic',\n",
       " 'elastic__tol': 0.0001,\n",
       " 'elastic__verbose': 0}"
      ]
     },
     "execution_count": 5,
     "metadata": {},
     "output_type": "execute_result"
    }
   ],
   "source": [
    "# elastic net cv\n",
    "\n",
    "elastic_pipe = Pipeline([('elastic', ElasticNetCV())])\n",
    "\n",
    "param_grid = {\n",
    "    'elastic__alphas': [(0.0001, 0.001, 0.01)],\n",
    "    'elastic__l1_ratio': [0.5],\n",
    "    'elastic__max_iter': [8000],\n",
    "}\n",
    "\n",
    "elastic_grid = GridSearchCV(elastic_pipe, param_grid, cv=5, n_jobs=-1, verbose=2)\n",
    "\n",
    "elastic_grid.fit(X_train, y_train)\n",
    "\n",
    "y_pred = elastic_grid.predict(X_test)\n",
    "\n",
    "print('R2 Score:', r2_score(y_test, y_pred))\n",
    "print('Mean Squared Error:', mean_squared_error(y_test, y_pred))\n",
    "print('Mean Absolute Error:', mean_absolute_error(y_test, y_pred))\n",
    "\n",
    "print('best parameters:', elastic_grid.best_params_)\n",
    "\n",
    "elastic_grid.best_estimator_.get_params()\n",
    "\n",
    "\n",
    "\n",
    "\n",
    "\n",
    "\n",
    "\n"
   ]
  },
  {
   "cell_type": "code",
   "execution_count": 12,
   "metadata": {},
   "outputs": [
    {
     "name": "stdout",
     "output_type": "stream",
     "text": [
      "Fitting 5 folds for each of 18 candidates, totalling 90 fits\n",
      "R2 Score: 0.9687019296218146\n",
      "Mean Squared Error: 507948.5799574132\n",
      "Mean Absolute Error: 418.16380008029506\n",
      "best parameters: {'poly__degree': 2, 'ridge__alpha': 25.0}\n"
     ]
    },
    {
     "data": {
      "text/plain": [
       "{'memory': None,\n",
       " 'steps': [('poly', PolynomialFeatures()), ('ridge', Ridge(alpha=25.0))],\n",
       " 'verbose': False,\n",
       " 'poly': PolynomialFeatures(),\n",
       " 'ridge': Ridge(alpha=25.0),\n",
       " 'poly__degree': 2,\n",
       " 'poly__include_bias': True,\n",
       " 'poly__interaction_only': False,\n",
       " 'poly__order': 'C',\n",
       " 'ridge__alpha': 25.0,\n",
       " 'ridge__copy_X': True,\n",
       " 'ridge__fit_intercept': True,\n",
       " 'ridge__max_iter': None,\n",
       " 'ridge__positive': False,\n",
       " 'ridge__random_state': None,\n",
       " 'ridge__solver': 'auto',\n",
       " 'ridge__tol': 0.0001}"
      ]
     },
     "execution_count": 12,
     "metadata": {},
     "output_type": "execute_result"
    }
   ],
   "source": [
    "\n",
    "# SVR model\n",
    "# lets do polynomialisation with ridge regression\n",
    "\n",
    "from sklearn.preprocessing import PolynomialFeatures\n",
    "\n",
    "poly_ridge_pipe = Pipeline([('poly', PolynomialFeatures()), ('ridge', Ridge())])\n",
    "\n",
    "param_grid = {\n",
    "    'poly__degree': [2, 3],\n",
    "    'ridge__alpha': [0.1, 1.0, 5.0,7.0, 10.0,20.0,22.0,25.0,27.0],\n",
    "    \n",
    "}\n",
    "\n",
    "poly_ridge_grid = GridSearchCV(poly_ridge_pipe, param_grid, cv=5, n_jobs=-1, verbose=2)\n",
    "\n",
    "poly_ridge_grid.fit(X_train, y_train)\n",
    "\n",
    "y_pred = poly_ridge_grid.predict(X_test)\n",
    "\n",
    "print('R2 Score:', r2_score(y_test, y_pred))\n",
    "print('Mean Squared Error:', mean_squared_error(y_test, y_pred))\n",
    "print('Mean Absolute Error:', mean_absolute_error(y_test, y_pred))\n",
    "\n",
    "print('best parameters:', poly_ridge_grid.best_params_)\n",
    "\n",
    "poly_ridge_grid.best_estimator_.get_params()\n",
    "\n",
    "\n",
    "\n"
   ]
  },
  {
   "cell_type": "code",
   "execution_count": 13,
   "metadata": {},
   "outputs": [
    {
     "name": "stdout",
     "output_type": "stream",
     "text": [
      "Fitting 5 folds for each of 18 candidates, totalling 90 fits\n",
      "R2 Score: 0.9685998611137088\n",
      "Mean Squared Error: 509605.08954807743\n",
      "Mean Absolute Error: 418.99762703410863\n",
      "best parameters: {'lasso__alpha': 1.0, 'poly__degree': 2}\n"
     ]
    },
    {
     "name": "stderr",
     "output_type": "stream",
     "text": [
      "c:\\Users\\IIISI\\OneDrive\\Documents\\py\\mlops\\firste2eml\\env\\Lib\\site-packages\\sklearn\\linear_model\\_coordinate_descent.py:697: ConvergenceWarning: Objective did not converge. You might want to increase the number of iterations, check the scale of the features or consider increasing regularisation. Duality gap: 3.799e+09, tolerance: 2.365e+08\n",
      "  model = cd_fast.enet_coordinate_descent(\n"
     ]
    },
    {
     "data": {
      "text/plain": [
       "{'memory': None,\n",
       " 'steps': [('poly', PolynomialFeatures()), ('lasso', Lasso())],\n",
       " 'verbose': False,\n",
       " 'poly': PolynomialFeatures(),\n",
       " 'lasso': Lasso(),\n",
       " 'poly__degree': 2,\n",
       " 'poly__include_bias': True,\n",
       " 'poly__interaction_only': False,\n",
       " 'poly__order': 'C',\n",
       " 'lasso__alpha': 1.0,\n",
       " 'lasso__copy_X': True,\n",
       " 'lasso__fit_intercept': True,\n",
       " 'lasso__max_iter': 1000,\n",
       " 'lasso__positive': False,\n",
       " 'lasso__precompute': False,\n",
       " 'lasso__random_state': None,\n",
       " 'lasso__selection': 'cyclic',\n",
       " 'lasso__tol': 0.0001,\n",
       " 'lasso__warm_start': False}"
      ]
     },
     "execution_count": 13,
     "metadata": {},
     "output_type": "execute_result"
    }
   ],
   "source": [
    "# polynomial features with lasso regression\n",
    "\n",
    "poly_lasso_pipe = Pipeline([('poly', PolynomialFeatures()), ('lasso', Lasso())])\n",
    "\n",
    "param_grid = {\n",
    "    'poly__degree': [2, 3],\n",
    "    'lasso__alpha': [0.1, 1.0, 5.0,7.0, 10.0,20.0,22.0,25.0,27.0],\n",
    "    \n",
    "}\n",
    "\n",
    "poly_lasso_grid = GridSearchCV(poly_lasso_pipe, param_grid, cv=5, n_jobs=-1, verbose=2)\n",
    "\n",
    "poly_lasso_grid.fit(X_train, y_train)\n",
    "\n",
    "y_pred = poly_lasso_grid.predict(X_test)\n",
    "\n",
    "print('R2 Score:', r2_score(y_test, y_pred))\n",
    "print('Mean Squared Error:', mean_squared_error(y_test, y_pred))\n",
    "print('Mean Absolute Error:', mean_absolute_error(y_test, y_pred))\n",
    "print('best parameters:', poly_lasso_grid.best_params_)\n",
    "poly_lasso_grid.best_estimator_.get_params()\n"
   ]
  },
  {
   "cell_type": "code",
   "execution_count": 20,
   "metadata": {},
   "outputs": [
    {
     "name": "stdout",
     "output_type": "stream",
     "text": [
      "Fitting 4 folds for each of 144 candidates, totalling 576 fits\n"
     ]
    },
    {
     "name": "stderr",
     "output_type": "stream",
     "text": [
      "c:\\Users\\IIISI\\OneDrive\\Documents\\py\\mlops\\firste2eml\\env\\Lib\\site-packages\\numpy\\ma\\core.py:2820: RuntimeWarning: invalid value encountered in cast\n",
      "  _data = np.array(data, dtype=dtype, copy=copy,\n"
     ]
    },
    {
     "name": "stdout",
     "output_type": "stream",
     "text": [
      "R2 Score: 0.9766014205892005\n",
      "Mean Squared Error: 379744.6628856815\n",
      "Mean Absolute Error: 312.7585825316286\n",
      "best parameters: {'dec__ccp_alpha': 0.01, 'dec__max_depth': 12, 'dec__min_samples_leaf': 4, 'dec__min_samples_split': 50}\n"
     ]
    },
    {
     "data": {
      "text/plain": [
       "{'memory': None,\n",
       " 'steps': [('dec',\n",
       "   DecisionTreeRegressor(ccp_alpha=0.01, max_depth=12, min_samples_leaf=4,\n",
       "                         min_samples_split=50))],\n",
       " 'verbose': False,\n",
       " 'dec': DecisionTreeRegressor(ccp_alpha=0.01, max_depth=12, min_samples_leaf=4,\n",
       "                       min_samples_split=50),\n",
       " 'dec__ccp_alpha': 0.01,\n",
       " 'dec__criterion': 'squared_error',\n",
       " 'dec__max_depth': 12,\n",
       " 'dec__max_features': None,\n",
       " 'dec__max_leaf_nodes': None,\n",
       " 'dec__min_impurity_decrease': 0.0,\n",
       " 'dec__min_samples_leaf': 4,\n",
       " 'dec__min_samples_split': 50,\n",
       " 'dec__min_weight_fraction_leaf': 0.0,\n",
       " 'dec__monotonic_cst': None,\n",
       " 'dec__random_state': None,\n",
       " 'dec__splitter': 'best'}"
      ]
     },
     "execution_count": 20,
     "metadata": {},
     "output_type": "execute_result"
    }
   ],
   "source": [
    "\n",
    "## Decision Tree Regressor\n",
    "\n",
    "dec_pipe = Pipeline([('dec', DecisionTreeRegressor())])\n",
    "\n",
    "param_grid = {\n",
    "    'dec__max_depth': [5, 10,12],\n",
    "    'dec__min_samples_split': [10,30,40,50],\n",
    "    'dec__min_samples_leaf': [1, 2, 4],\n",
    "    'dec__ccp_alpha': [0.0, 0.01, 0.05,0.1]\n",
    "\n",
    "    }\n",
    "\n",
    "dec_grid = GridSearchCV(dec_pipe, param_grid, cv=4, n_jobs=-1, verbose=2)\n",
    "\n",
    "dec_grid.fit(X_train, y_train)\n",
    "\n",
    "y_pred = dec_grid.predict(X_test)\n",
    "\n",
    "print('R2 Score:', r2_score(y_test, y_pred))\n",
    "\n",
    "print('Mean Squared Error:', mean_squared_error(y_test, y_pred))\n",
    "\n",
    "print('Mean Absolute Error:', mean_absolute_error(y_test, y_pred))\n",
    "\n",
    "print('best parameters:', dec_grid.best_params_)\n",
    "\n",
    "dec_grid.best_estimator_.get_params()\n",
    "\n"
   ]
  },
  {
   "cell_type": "code",
   "execution_count": 21,
   "metadata": {},
   "outputs": [
    {
     "name": "stdout",
     "output_type": "stream",
     "text": [
      "Fitting 3 folds for each of 144 candidates, totalling 432 fits\n"
     ]
    },
    {
     "name": "stderr",
     "output_type": "stream",
     "text": [
      "c:\\Users\\IIISI\\OneDrive\\Documents\\py\\mlops\\firste2eml\\env\\Lib\\site-packages\\numpy\\ma\\core.py:2820: RuntimeWarning: invalid value encountered in cast\n",
      "  _data = np.array(data, dtype=dtype, copy=copy,\n"
     ]
    },
    {
     "name": "stdout",
     "output_type": "stream",
     "text": [
      "R2 Score: 0.9759725746372854\n",
      "Mean Squared Error: 389950.4488791189\n",
      "Mean Absolute Error: 322.40347229968717\n",
      "best parameters: {'dec__ccp_alpha': 0.01, 'dec__max_depth': 10, 'dec__min_samples_leaf': 4, 'dec__min_samples_split': 30, 'poly__degree': 2}\n"
     ]
    },
    {
     "data": {
      "text/plain": [
       "{'memory': None,\n",
       " 'steps': [('poly', PolynomialFeatures()),\n",
       "  ('dec',\n",
       "   DecisionTreeRegressor(ccp_alpha=0.01, max_depth=10, min_samples_leaf=4,\n",
       "                         min_samples_split=30))],\n",
       " 'verbose': False,\n",
       " 'poly': PolynomialFeatures(),\n",
       " 'dec': DecisionTreeRegressor(ccp_alpha=0.01, max_depth=10, min_samples_leaf=4,\n",
       "                       min_samples_split=30),\n",
       " 'poly__degree': 2,\n",
       " 'poly__include_bias': True,\n",
       " 'poly__interaction_only': False,\n",
       " 'poly__order': 'C',\n",
       " 'dec__ccp_alpha': 0.01,\n",
       " 'dec__criterion': 'squared_error',\n",
       " 'dec__max_depth': 10,\n",
       " 'dec__max_features': None,\n",
       " 'dec__max_leaf_nodes': None,\n",
       " 'dec__min_impurity_decrease': 0.0,\n",
       " 'dec__min_samples_leaf': 4,\n",
       " 'dec__min_samples_split': 30,\n",
       " 'dec__min_weight_fraction_leaf': 0.0,\n",
       " 'dec__monotonic_cst': None,\n",
       " 'dec__random_state': None,\n",
       " 'dec__splitter': 'best'}"
      ]
     },
     "execution_count": 21,
     "metadata": {},
     "output_type": "execute_result"
    }
   ],
   "source": [
    "# set the best params with polynomial features and apply the model\n",
    "\n",
    "poly_dec_pipe = Pipeline([('poly', PolynomialFeatures()), ('dec', DecisionTreeRegressor())])\n",
    "\n",
    "param_grid = {\n",
    "    'poly__degree': [2, 3],\n",
    "    'dec__max_depth': [5, 10, 15],\n",
    "    'dec__min_samples_split': [20, 30],\n",
    "    'dec__min_samples_leaf': [1, 2, 4],\n",
    "    'dec__ccp_alpha': [0.0, 0.01, 0.05, 0.1]\n",
    "\n",
    "}\n",
    "\n",
    "poly_dec_grid = GridSearchCV(poly_dec_pipe, param_grid, cv=3, n_jobs=-1, verbose=2)\n",
    "\n",
    "poly_dec_grid.fit(X_train, y_train)\n",
    "\n",
    "y_pred = poly_dec_grid.predict(X_test)\n",
    "\n",
    "print('R2 Score:', r2_score(y_test, y_pred))\n",
    "\n",
    "print('Mean Squared Error:', mean_squared_error(y_test, y_pred))\n",
    "\n",
    "print('Mean Absolute Error:', mean_absolute_error(y_test, y_pred))\n",
    "\n",
    "print('best parameters:', poly_dec_grid.best_params_)\n",
    "\n",
    "poly_dec_grid.best_estimator_.get_params()\n",
    "\n"
   ]
  },
  {
   "cell_type": "markdown",
   "metadata": {},
   "source": [
    "##### Ensemble Models"
   ]
  },
  {
   "cell_type": "code",
   "execution_count": 38,
   "metadata": {},
   "outputs": [
    {
     "name": "stdout",
     "output_type": "stream",
     "text": [
      "Fitting 3 folds for each of 8 candidates, totalling 24 fits\n",
      "R2 Score: 0.978630210661493\n",
      "Mean Squared Error: 346818.63825219637\n",
      "Mean Absolute Error: 296.3894223286479\n",
      "best parameters: {'rf__ccp_alpha': 0.02, 'rf__max_depth': 15, 'rf__min_samples_leaf': 2, 'rf__min_samples_split': 20, 'rf__n_estimators': 200}\n"
     ]
    },
    {
     "data": {
      "text/plain": [
       "{'memory': None,\n",
       " 'steps': [('rf',\n",
       "   RandomForestRegressor(ccp_alpha=0.02, max_depth=15, min_samples_leaf=2,\n",
       "                         min_samples_split=20, n_estimators=200))],\n",
       " 'verbose': False,\n",
       " 'rf': RandomForestRegressor(ccp_alpha=0.02, max_depth=15, min_samples_leaf=2,\n",
       "                       min_samples_split=20, n_estimators=200),\n",
       " 'rf__bootstrap': True,\n",
       " 'rf__ccp_alpha': 0.02,\n",
       " 'rf__criterion': 'squared_error',\n",
       " 'rf__max_depth': 15,\n",
       " 'rf__max_features': 1.0,\n",
       " 'rf__max_leaf_nodes': None,\n",
       " 'rf__max_samples': None,\n",
       " 'rf__min_impurity_decrease': 0.0,\n",
       " 'rf__min_samples_leaf': 2,\n",
       " 'rf__min_samples_split': 20,\n",
       " 'rf__min_weight_fraction_leaf': 0.0,\n",
       " 'rf__monotonic_cst': None,\n",
       " 'rf__n_estimators': 200,\n",
       " 'rf__n_jobs': None,\n",
       " 'rf__oob_score': False,\n",
       " 'rf__random_state': None,\n",
       " 'rf__verbose': 0,\n",
       " 'rf__warm_start': False}"
      ]
     },
     "execution_count": 38,
     "metadata": {},
     "output_type": "execute_result"
    }
   ],
   "source": [
    "rf_pipe = Pipeline([('rf', RandomForestRegressor())])\n",
    "\n",
    "param_grid = {\n",
    "    'rf__n_estimators': [200],\n",
    "    'rf__max_depth': [10, 15],\n",
    "    'rf__min_samples_split': [15,20],\n",
    "    'rf__min_samples_leaf': [ 2 ],\n",
    "    \n",
    "    'rf__ccp_alpha': [0.0, 0.02]\n",
    "\n",
    "}\n",
    "\n",
    "rf_grid = GridSearchCV(rf_pipe, param_grid, cv=3, n_jobs=-1, verbose=2)\n",
    "\n",
    "rf_grid.fit(X_train, y_train)\n",
    "\n",
    "y_pred = rf_grid.predict(X_test)\n",
    "\n",
    "print('R2 Score:', r2_score(y_test, y_pred))\n",
    "\n",
    "print('Mean Squared Error:', mean_squared_error(y_test, y_pred))\n",
    "\n",
    "print('Mean Absolute Error:', mean_absolute_error(y_test, y_pred))\n",
    "\n",
    "print('best parameters:', rf_grid.best_params_)\n",
    "\n",
    "rf_grid.best_estimator_.get_params()"
   ]
  },
  {
   "cell_type": "code",
   "execution_count": 37,
   "metadata": {},
   "outputs": [
    {
     "name": "stdout",
     "output_type": "stream",
     "text": [
      "R2 Score: 0.9785550404692547\n"
     ]
    }
   ],
   "source": [
    "rf_grid.best_estimator_[0].get_params()\n",
    "#print r2 score, mean squared error, mean absolute error, best parameters and best estimator parameters\n",
    "print('R2 Score:', r2_score(y_test, y_pred))"
   ]
  },
  {
   "cell_type": "code",
   "execution_count": 41,
   "metadata": {},
   "outputs": [
    {
     "name": "stdout",
     "output_type": "stream",
     "text": [
      "Fitting 3 folds for each of 36 candidates, totalling 108 fits\n",
      "R2 Score: 0.9791687809949242\n",
      "Mean Squared Error: 338077.9704484651\n",
      "Mean Absolute Error: 296.71880080359705\n",
      "best parameters: {'gb__learning_rate': 0.1, 'gb__max_depth': 5, 'gb__min_samples_leaf': 4, 'gb__min_samples_split': 6, 'gb__n_estimators': 150}\n"
     ]
    },
    {
     "data": {
      "text/plain": [
       "{'memory': None,\n",
       " 'steps': [('gb',\n",
       "   GradientBoostingRegressor(max_depth=5, min_samples_leaf=4, min_samples_split=6,\n",
       "                             n_estimators=150))],\n",
       " 'verbose': False,\n",
       " 'gb': GradientBoostingRegressor(max_depth=5, min_samples_leaf=4, min_samples_split=6,\n",
       "                           n_estimators=150),\n",
       " 'gb__alpha': 0.9,\n",
       " 'gb__ccp_alpha': 0.0,\n",
       " 'gb__criterion': 'friedman_mse',\n",
       " 'gb__init': None,\n",
       " 'gb__learning_rate': 0.1,\n",
       " 'gb__loss': 'squared_error',\n",
       " 'gb__max_depth': 5,\n",
       " 'gb__max_features': None,\n",
       " 'gb__max_leaf_nodes': None,\n",
       " 'gb__min_impurity_decrease': 0.0,\n",
       " 'gb__min_samples_leaf': 4,\n",
       " 'gb__min_samples_split': 6,\n",
       " 'gb__min_weight_fraction_leaf': 0.0,\n",
       " 'gb__n_estimators': 150,\n",
       " 'gb__n_iter_no_change': None,\n",
       " 'gb__random_state': None,\n",
       " 'gb__subsample': 1.0,\n",
       " 'gb__tol': 0.0001,\n",
       " 'gb__validation_fraction': 0.1,\n",
       " 'gb__verbose': 0,\n",
       " 'gb__warm_start': False}"
      ]
     },
     "execution_count": 41,
     "metadata": {},
     "output_type": "execute_result"
    }
   ],
   "source": [
    "## Gradient Boosting Regressor\n",
    "\n",
    "gb_pipe = Pipeline([('gb', GradientBoostingRegressor())])\n",
    "\n",
    "param_grid = {\n",
    "    'gb__n_estimators': [150],\n",
    "    'gb__learning_rate': [0.01,0.1,1],\n",
    "    'gb__max_depth': [3, 5],\n",
    "    'gb__min_samples_split': [2,4,6],\n",
    "    'gb__min_samples_leaf': [2, 4],\n",
    "    # 'gb__ccp_alpha': [0.0, 0.02]\n",
    "}\n",
    "\n",
    "gb_grid = GridSearchCV(gb_pipe, param_grid, cv=3, n_jobs=-1, verbose=2)\n",
    "\n",
    "gb_grid.fit(X_train, y_train)\n",
    "\n",
    "y_pred = gb_grid.predict(X_test)\n",
    "\n",
    "print('R2 Score:', r2_score(y_test, y_pred))\n",
    "\n",
    "print('Mean Squared Error:', mean_squared_error(y_test, y_pred))\n",
    "\n",
    "print('Mean Absolute Error:', mean_absolute_error(y_test, y_pred))\n",
    "\n",
    "print('best parameters:', gb_grid.best_params_)\n",
    "\n",
    "gb_grid.best_estimator_.get_params()\n"
   ]
  },
  {
   "cell_type": "code",
   "execution_count": 50,
   "metadata": {},
   "outputs": [
    {
     "name": "stdout",
     "output_type": "stream",
     "text": [
      "Fitting 4 folds for each of 108 candidates, totalling 432 fits\n",
      "R2 Score: 0.9791222214698792\n",
      "Mean Squared Error: 338833.98310354847\n",
      "Mean Absolute Error: 296.5657136294942\n"
     ]
    },
    {
     "data": {
      "text/plain": [
       "{'memory': None,\n",
       " 'steps': [('xgb',\n",
       "   XGBRegressor(base_score=None, booster=None, callbacks=None,\n",
       "                colsample_bylevel=None, colsample_bynode=None,\n",
       "                colsample_bytree=None, device=None, early_stopping_rounds=None,\n",
       "                enable_categorical=False, eval_metric=None, feature_types=None,\n",
       "                gamma=None, grow_policy=None, importance_type=None,\n",
       "                interaction_constraints=None, learning_rate=0.1, max_bin=None,\n",
       "                max_cat_threshold=None, max_cat_to_onehot=None,\n",
       "                max_delta_step=None, max_depth=5, max_leaves=None,\n",
       "                min_child_weight=5, missing=nan, monotone_constraints=None,\n",
       "                multi_strategy=None, n_estimators=150, n_jobs=None,\n",
       "                num_parallel_tree=None, random_state=None, ...))],\n",
       " 'verbose': False,\n",
       " 'xgb': XGBRegressor(base_score=None, booster=None, callbacks=None,\n",
       "              colsample_bylevel=None, colsample_bynode=None,\n",
       "              colsample_bytree=None, device=None, early_stopping_rounds=None,\n",
       "              enable_categorical=False, eval_metric=None, feature_types=None,\n",
       "              gamma=None, grow_policy=None, importance_type=None,\n",
       "              interaction_constraints=None, learning_rate=0.1, max_bin=None,\n",
       "              max_cat_threshold=None, max_cat_to_onehot=None,\n",
       "              max_delta_step=None, max_depth=5, max_leaves=None,\n",
       "              min_child_weight=5, missing=nan, monotone_constraints=None,\n",
       "              multi_strategy=None, n_estimators=150, n_jobs=None,\n",
       "              num_parallel_tree=None, random_state=None, ...),\n",
       " 'xgb__objective': 'reg:squarederror',\n",
       " 'xgb__base_score': None,\n",
       " 'xgb__booster': None,\n",
       " 'xgb__callbacks': None,\n",
       " 'xgb__colsample_bylevel': None,\n",
       " 'xgb__colsample_bynode': None,\n",
       " 'xgb__colsample_bytree': None,\n",
       " 'xgb__device': None,\n",
       " 'xgb__early_stopping_rounds': None,\n",
       " 'xgb__enable_categorical': False,\n",
       " 'xgb__eval_metric': None,\n",
       " 'xgb__feature_types': None,\n",
       " 'xgb__gamma': None,\n",
       " 'xgb__grow_policy': None,\n",
       " 'xgb__importance_type': None,\n",
       " 'xgb__interaction_constraints': None,\n",
       " 'xgb__learning_rate': 0.1,\n",
       " 'xgb__max_bin': None,\n",
       " 'xgb__max_cat_threshold': None,\n",
       " 'xgb__max_cat_to_onehot': None,\n",
       " 'xgb__max_delta_step': None,\n",
       " 'xgb__max_depth': 5,\n",
       " 'xgb__max_leaves': None,\n",
       " 'xgb__min_child_weight': 5,\n",
       " 'xgb__missing': nan,\n",
       " 'xgb__monotone_constraints': None,\n",
       " 'xgb__multi_strategy': None,\n",
       " 'xgb__n_estimators': 150,\n",
       " 'xgb__n_jobs': None,\n",
       " 'xgb__num_parallel_tree': None,\n",
       " 'xgb__random_state': None,\n",
       " 'xgb__reg_alpha': None,\n",
       " 'xgb__reg_lambda': 1,\n",
       " 'xgb__sampling_method': None,\n",
       " 'xgb__scale_pos_weight': None,\n",
       " 'xgb__subsample': None,\n",
       " 'xgb__tree_method': None,\n",
       " 'xgb__validate_parameters': None,\n",
       " 'xgb__verbosity': None}"
      ]
     },
     "execution_count": 50,
     "metadata": {},
     "output_type": "execute_result"
    }
   ],
   "source": [
    "\n",
    "# XGBoost Regressor\n",
    "\n",
    "xgb_pipe = Pipeline([('xgb', XGBRegressor())])\n",
    "\n",
    "param_grid = {\n",
    "    'xgb__n_estimators': [150,200],\n",
    "    'xgb__learning_rate': [0.1,0.3],\n",
    "    'xgb__max_depth': [3, 5,7],\n",
    "    'xgb__min_child_weight': [1, 3, 5],\n",
    "    'xgb__reg_lambda': [0.01, 0.1, 1],\n",
    "  \n",
    "}\n",
    "\n",
    "xgb_grid = GridSearchCV(xgb_pipe, param_grid, cv=4, n_jobs=-1, verbose=2)\n",
    "\n",
    "xgb_grid.fit(X_train, y_train)\n",
    "\n",
    "y_pred = xgb_grid.predict(X_test)\n",
    "\n",
    "print('R2 Score:', r2_score(y_test, y_pred))\n",
    "\n",
    "print('Mean Squared Error:', mean_squared_error(y_test, y_pred))\n",
    "\n",
    "print('Mean Absolute Error:', mean_absolute_error(y_test, y_pred))\n",
    "\n",
    "# print('best parameters:', xgb_grid.best_params_)\n",
    "\n",
    "xgb_grid.best_estimator_.get_params()\n",
    "\n"
   ]
  },
  {
   "cell_type": "code",
   "execution_count": 56,
   "metadata": {},
   "outputs": [
    {
     "name": "stdout",
     "output_type": "stream",
     "text": [
      "Fitting 4 folds for each of 2 candidates, totalling 8 fits\n",
      "R2 Score: 0.9779172539710999\n",
      "Mean Squared Error: 358389.4237723896\n",
      "Mean Absolute Error: 301.780005490134\n",
      "best parameters: {'poly__degree': 2}\n"
     ]
    },
    {
     "data": {
      "text/plain": [
       "{'memory': None,\n",
       " 'steps': [('poly', PolynomialFeatures()),\n",
       "  ('xgb',\n",
       "   XGBRegressor(base_score=None, booster=None, callbacks=None,\n",
       "                colsample_bylevel=None, colsample_bynode=None,\n",
       "                colsample_bytree=None, device=None, early_stopping_rounds=None,\n",
       "                enable_categorical=False, eval_metric=None, feature_types=None,\n",
       "                gamma=None, grow_policy=None, importance_type=None,\n",
       "                interaction_constraints=None, learning_rate=None, max_bin=None,\n",
       "                max_cat_threshold=None, max_cat_to_onehot=None,\n",
       "                max_delta_step=None, max_depth=None, max_leaves=None,\n",
       "                min_child_weight=None, missing=nan, monotone_constraints=None,\n",
       "                multi_strategy=None, n_estimators=None, n_jobs=None,\n",
       "                num_parallel_tree=None, random_state=None, ...))],\n",
       " 'verbose': False,\n",
       " 'poly': PolynomialFeatures(),\n",
       " 'xgb': XGBRegressor(base_score=None, booster=None, callbacks=None,\n",
       "              colsample_bylevel=None, colsample_bynode=None,\n",
       "              colsample_bytree=None, device=None, early_stopping_rounds=None,\n",
       "              enable_categorical=False, eval_metric=None, feature_types=None,\n",
       "              gamma=None, grow_policy=None, importance_type=None,\n",
       "              interaction_constraints=None, learning_rate=None, max_bin=None,\n",
       "              max_cat_threshold=None, max_cat_to_onehot=None,\n",
       "              max_delta_step=None, max_depth=None, max_leaves=None,\n",
       "              min_child_weight=None, missing=nan, monotone_constraints=None,\n",
       "              multi_strategy=None, n_estimators=None, n_jobs=None,\n",
       "              num_parallel_tree=None, random_state=None, ...),\n",
       " 'poly__degree': 2,\n",
       " 'poly__include_bias': True,\n",
       " 'poly__interaction_only': False,\n",
       " 'poly__order': 'C',\n",
       " 'xgb__objective': 'reg:squarederror',\n",
       " 'xgb__base_score': None,\n",
       " 'xgb__booster': None,\n",
       " 'xgb__callbacks': None,\n",
       " 'xgb__colsample_bylevel': None,\n",
       " 'xgb__colsample_bynode': None,\n",
       " 'xgb__colsample_bytree': None,\n",
       " 'xgb__device': None,\n",
       " 'xgb__early_stopping_rounds': None,\n",
       " 'xgb__enable_categorical': False,\n",
       " 'xgb__eval_metric': None,\n",
       " 'xgb__feature_types': None,\n",
       " 'xgb__gamma': None,\n",
       " 'xgb__grow_policy': None,\n",
       " 'xgb__importance_type': None,\n",
       " 'xgb__interaction_constraints': None,\n",
       " 'xgb__learning_rate': None,\n",
       " 'xgb__max_bin': None,\n",
       " 'xgb__max_cat_threshold': None,\n",
       " 'xgb__max_cat_to_onehot': None,\n",
       " 'xgb__max_delta_step': None,\n",
       " 'xgb__max_depth': None,\n",
       " 'xgb__max_leaves': None,\n",
       " 'xgb__min_child_weight': None,\n",
       " 'xgb__missing': nan,\n",
       " 'xgb__monotone_constraints': None,\n",
       " 'xgb__multi_strategy': None,\n",
       " 'xgb__n_estimators': None,\n",
       " 'xgb__n_jobs': None,\n",
       " 'xgb__num_parallel_tree': None,\n",
       " 'xgb__random_state': None,\n",
       " 'xgb__reg_alpha': None,\n",
       " 'xgb__reg_lambda': None,\n",
       " 'xgb__sampling_method': None,\n",
       " 'xgb__scale_pos_weight': None,\n",
       " 'xgb__subsample': None,\n",
       " 'xgb__tree_method': None,\n",
       " 'xgb__validate_parameters': None,\n",
       " 'xgb__verbosity': None}"
      ]
     },
     "execution_count": 56,
     "metadata": {},
     "output_type": "execute_result"
    }
   ],
   "source": [
    "\n"
   ]
  },
  {
   "cell_type": "code",
   "execution_count": 55,
   "metadata": {},
   "outputs": [
    {
     "name": "stdout",
     "output_type": "stream",
     "text": [
      "Fitting 3 folds for each of 1 candidates, totalling 3 fits\n",
      "R2 Score: 0.9779971412454685\n",
      "Mean Squared Error: 357092.96849040303\n",
      "Mean Absolute Error: 311.78225318545884\n",
      "best parameters: {}\n"
     ]
    },
    {
     "name": "stderr",
     "output_type": "stream",
     "text": [
      "c:\\Users\\IIISI\\OneDrive\\Documents\\py\\mlops\\firste2eml\\env\\Lib\\site-packages\\sklearn\\neural_network\\_multilayer_perceptron.py:690: ConvergenceWarning: Stochastic Optimizer: Maximum iterations (1000) reached and the optimization hasn't converged yet.\n",
      "  warnings.warn(\n"
     ]
    },
    {
     "data": {
      "text/plain": [
       "{'memory': None,\n",
       " 'steps': [('mlp', MLPRegressor(max_iter=1000, random_state=42))],\n",
       " 'verbose': False,\n",
       " 'mlp': MLPRegressor(max_iter=1000, random_state=42),\n",
       " 'mlp__activation': 'relu',\n",
       " 'mlp__alpha': 0.0001,\n",
       " 'mlp__batch_size': 'auto',\n",
       " 'mlp__beta_1': 0.9,\n",
       " 'mlp__beta_2': 0.999,\n",
       " 'mlp__early_stopping': False,\n",
       " 'mlp__epsilon': 1e-08,\n",
       " 'mlp__hidden_layer_sizes': (100,),\n",
       " 'mlp__learning_rate': 'constant',\n",
       " 'mlp__learning_rate_init': 0.001,\n",
       " 'mlp__max_fun': 15000,\n",
       " 'mlp__max_iter': 1000,\n",
       " 'mlp__momentum': 0.9,\n",
       " 'mlp__n_iter_no_change': 10,\n",
       " 'mlp__nesterovs_momentum': True,\n",
       " 'mlp__power_t': 0.5,\n",
       " 'mlp__random_state': 42,\n",
       " 'mlp__shuffle': True,\n",
       " 'mlp__solver': 'adam',\n",
       " 'mlp__tol': 0.0001,\n",
       " 'mlp__validation_fraction': 0.1,\n",
       " 'mlp__verbose': False,\n",
       " 'mlp__warm_start': False}"
      ]
     },
     "execution_count": 55,
     "metadata": {},
     "output_type": "execute_result"
    }
   ],
   "source": [
    "## Neural Network\n",
    "\n",
    "mlp_pipe = Pipeline([\n",
    "    ('mlp', MLPRegressor(max_iter=1000, random_state=42))\n",
    "])\n",
    "\n",
    "param_grid = {\n",
    "    # 'mlp__hidden_layer_sizes': [(50,), (100,), (100, 50), (150, 100)],\n",
    "    # 'mlp__activation': ['relu', 'tanh'],\n",
    "    # 'mlp__solver': ['adam', 'sgd'],\n",
    "    # 'mlp__alpha': [0.0001, 0.001, 0.01],\n",
    "    # 'mlp__learning_rate': ['constant', 'adaptive'],\n",
    "    # 'mlp__learning_rate_init': [0.001, 0.01, 0.1],\n",
    "    # 'mlp__batch_size': ['auto', 32, 64],\n",
    "\n",
    "}\n",
    "\n",
    "mlp_grid = GridSearchCV(mlp_pipe, param_grid, cv=3, n_jobs=-1, verbose=2,scoring='r2')\n",
    "\n",
    "mlp_grid.fit(X_train, y_train)\n",
    "\n",
    "y_pred = mlp_grid.predict(X_test)\n",
    "\n",
    "print('R2 Score:', r2_score(y_test, y_pred))\n",
    "\n",
    "print('Mean Squared Error:', mean_squared_error(y_test, y_pred))\n",
    "print('Mean Absolute Error:', mean_absolute_error(y_test, y_pred))\n",
    "\n",
    "print('best parameters:', mlp_grid.best_params_)\n",
    "\n",
    "mlp_grid.best_estimator_.get_params()\n",
    "\n"
   ]
  },
  {
   "cell_type": "code",
   "execution_count": 64,
   "metadata": {},
   "outputs": [
    {
     "data": {
      "text/html": [
       "<div>\n",
       "<style scoped>\n",
       "    .dataframe tbody tr th:only-of-type {\n",
       "        vertical-align: middle;\n",
       "    }\n",
       "\n",
       "    .dataframe tbody tr th {\n",
       "        vertical-align: top;\n",
       "    }\n",
       "\n",
       "    .dataframe thead th {\n",
       "        text-align: right;\n",
       "    }\n",
       "</style>\n",
       "<table border=\"1\" class=\"dataframe\">\n",
       "  <thead>\n",
       "    <tr style=\"text-align: right;\">\n",
       "      <th></th>\n",
       "      <th>carat</th>\n",
       "      <th>cut</th>\n",
       "      <th>color</th>\n",
       "      <th>clarity</th>\n",
       "      <th>depth</th>\n",
       "      <th>table</th>\n",
       "      <th>x</th>\n",
       "      <th>y</th>\n",
       "      <th>z</th>\n",
       "      <th>price</th>\n",
       "    </tr>\n",
       "  </thead>\n",
       "  <tbody>\n",
       "    <tr>\n",
       "      <th>0</th>\n",
       "      <td>1.52</td>\n",
       "      <td>4</td>\n",
       "      <td>5</td>\n",
       "      <td>4</td>\n",
       "      <td>62.2</td>\n",
       "      <td>58.0</td>\n",
       "      <td>7.27</td>\n",
       "      <td>7.33</td>\n",
       "      <td>4.55</td>\n",
       "      <td>13619</td>\n",
       "    </tr>\n",
       "    <tr>\n",
       "      <th>1</th>\n",
       "      <td>2.03</td>\n",
       "      <td>3</td>\n",
       "      <td>1</td>\n",
       "      <td>2</td>\n",
       "      <td>62.0</td>\n",
       "      <td>58.0</td>\n",
       "      <td>8.06</td>\n",
       "      <td>8.12</td>\n",
       "      <td>5.05</td>\n",
       "      <td>13387</td>\n",
       "    </tr>\n",
       "    <tr>\n",
       "      <th>2</th>\n",
       "      <td>0.70</td>\n",
       "      <td>5</td>\n",
       "      <td>4</td>\n",
       "      <td>5</td>\n",
       "      <td>61.2</td>\n",
       "      <td>57.0</td>\n",
       "      <td>5.69</td>\n",
       "      <td>5.73</td>\n",
       "      <td>3.50</td>\n",
       "      <td>2772</td>\n",
       "    </tr>\n",
       "    <tr>\n",
       "      <th>3</th>\n",
       "      <td>0.32</td>\n",
       "      <td>5</td>\n",
       "      <td>4</td>\n",
       "      <td>5</td>\n",
       "      <td>61.6</td>\n",
       "      <td>56.0</td>\n",
       "      <td>4.38</td>\n",
       "      <td>4.41</td>\n",
       "      <td>2.71</td>\n",
       "      <td>666</td>\n",
       "    </tr>\n",
       "    <tr>\n",
       "      <th>4</th>\n",
       "      <td>1.70</td>\n",
       "      <td>4</td>\n",
       "      <td>4</td>\n",
       "      <td>4</td>\n",
       "      <td>62.6</td>\n",
       "      <td>59.0</td>\n",
       "      <td>7.65</td>\n",
       "      <td>7.61</td>\n",
       "      <td>4.77</td>\n",
       "      <td>14453</td>\n",
       "    </tr>\n",
       "    <tr>\n",
       "      <th>...</th>\n",
       "      <td>...</td>\n",
       "      <td>...</td>\n",
       "      <td>...</td>\n",
       "      <td>...</td>\n",
       "      <td>...</td>\n",
       "      <td>...</td>\n",
       "      <td>...</td>\n",
       "      <td>...</td>\n",
       "      <td>...</td>\n",
       "      <td>...</td>\n",
       "    </tr>\n",
       "    <tr>\n",
       "      <th>193568</th>\n",
       "      <td>0.31</td>\n",
       "      <td>5</td>\n",
       "      <td>7</td>\n",
       "      <td>6</td>\n",
       "      <td>61.1</td>\n",
       "      <td>56.0</td>\n",
       "      <td>4.35</td>\n",
       "      <td>4.39</td>\n",
       "      <td>2.67</td>\n",
       "      <td>1130</td>\n",
       "    </tr>\n",
       "    <tr>\n",
       "      <th>193569</th>\n",
       "      <td>0.70</td>\n",
       "      <td>4</td>\n",
       "      <td>4</td>\n",
       "      <td>6</td>\n",
       "      <td>60.3</td>\n",
       "      <td>58.0</td>\n",
       "      <td>5.75</td>\n",
       "      <td>5.77</td>\n",
       "      <td>3.47</td>\n",
       "      <td>2874</td>\n",
       "    </tr>\n",
       "    <tr>\n",
       "      <th>193570</th>\n",
       "      <td>0.73</td>\n",
       "      <td>3</td>\n",
       "      <td>5</td>\n",
       "      <td>3</td>\n",
       "      <td>63.1</td>\n",
       "      <td>57.0</td>\n",
       "      <td>5.72</td>\n",
       "      <td>5.75</td>\n",
       "      <td>3.62</td>\n",
       "      <td>3036</td>\n",
       "    </tr>\n",
       "    <tr>\n",
       "      <th>193571</th>\n",
       "      <td>0.34</td>\n",
       "      <td>3</td>\n",
       "      <td>7</td>\n",
       "      <td>3</td>\n",
       "      <td>62.9</td>\n",
       "      <td>55.0</td>\n",
       "      <td>4.45</td>\n",
       "      <td>4.49</td>\n",
       "      <td>2.81</td>\n",
       "      <td>681</td>\n",
       "    </tr>\n",
       "    <tr>\n",
       "      <th>193572</th>\n",
       "      <td>0.71</td>\n",
       "      <td>2</td>\n",
       "      <td>6</td>\n",
       "      <td>2</td>\n",
       "      <td>60.8</td>\n",
       "      <td>64.0</td>\n",
       "      <td>5.73</td>\n",
       "      <td>5.71</td>\n",
       "      <td>3.48</td>\n",
       "      <td>2258</td>\n",
       "    </tr>\n",
       "  </tbody>\n",
       "</table>\n",
       "<p>193573 rows × 10 columns</p>\n",
       "</div>"
      ],
      "text/plain": [
       "        carat  cut  color  clarity  depth  table     x     y     z  price\n",
       "0        1.52    4      5        4   62.2   58.0  7.27  7.33  4.55  13619\n",
       "1        2.03    3      1        2   62.0   58.0  8.06  8.12  5.05  13387\n",
       "2        0.70    5      4        5   61.2   57.0  5.69  5.73  3.50   2772\n",
       "3        0.32    5      4        5   61.6   56.0  4.38  4.41  2.71    666\n",
       "4        1.70    4      4        4   62.6   59.0  7.65  7.61  4.77  14453\n",
       "...       ...  ...    ...      ...    ...    ...   ...   ...   ...    ...\n",
       "193568   0.31    5      7        6   61.1   56.0  4.35  4.39  2.67   1130\n",
       "193569   0.70    4      4        6   60.3   58.0  5.75  5.77  3.47   2874\n",
       "193570   0.73    3      5        3   63.1   57.0  5.72  5.75  3.62   3036\n",
       "193571   0.34    3      7        3   62.9   55.0  4.45  4.49  2.81    681\n",
       "193572   0.71    2      6        2   60.8   64.0  5.73  5.71  3.48   2258\n",
       "\n",
       "[193573 rows x 10 columns]"
      ]
     },
     "execution_count": 64,
     "metadata": {},
     "output_type": "execute_result"
    }
   ],
   "source": [
    "data"
   ]
  },
  {
   "cell_type": "code",
   "execution_count": 65,
   "metadata": {},
   "outputs": [],
   "source": [
    "df = data.copy()"
   ]
  },
  {
   "cell_type": "code",
   "execution_count": 66,
   "metadata": {},
   "outputs": [],
   "source": [
    "df['volume'] = df['x'] * df['y'] * df['z']\n",
    "df['surface_area'] = 2 * (df['x'] * df['y'] + df['x'] * df['z'] + df['y'] * df['z'])"
   ]
  },
  {
   "cell_type": "code",
   "execution_count": null,
   "metadata": {},
   "outputs": [],
   "source": [
    "data['volume'] = data['x'] * data['y'] * data['z']\n",
    "data['surface_area'] = 2 * (data['x'] * data['y'] + data['x'] * data['z'] + data['y'] * data['z'])"
   ]
  },
  {
   "cell_type": "code",
   "execution_count": 68,
   "metadata": {},
   "outputs": [],
   "source": [
    "df.drop(['x', 'y', 'z'], axis=1, inplace=True)"
   ]
  },
  {
   "cell_type": "code",
   "execution_count": 2,
   "metadata": {},
   "outputs": [
    {
     "name": "stdout",
     "output_type": "stream",
     "text": [
      "                 carat       cut     color   clarity     depth     table  \\\n",
      "carat         1.000000 -0.150901 -0.292400 -0.348611  0.027852  0.225737   \n",
      "cut          -0.150901  1.000000  0.022439  0.185145 -0.249720 -0.480481   \n",
      "color        -0.292400  0.022439  1.000000 -0.088333 -0.035517 -0.034978   \n",
      "clarity      -0.348611  0.185145 -0.088333  1.000000 -0.060720 -0.184567   \n",
      "depth         0.027852 -0.249720 -0.035517 -0.060720  1.000000 -0.230631   \n",
      "table         0.225737 -0.480481 -0.034978 -0.184567 -0.230631  1.000000   \n",
      "price         0.943396 -0.090948 -0.210859 -0.184439  0.001880  0.174915   \n",
      "volume        0.998611 -0.139721 -0.292267 -0.345708  0.015253  0.217641   \n",
      "surface_area  0.994326 -0.146892 -0.282768 -0.361977  0.012498  0.225555   \n",
      "\n",
      "                 price    volume  surface_area  \n",
      "carat         0.943396  0.998611      0.994326  \n",
      "cut          -0.090948 -0.139721     -0.146892  \n",
      "color        -0.210859 -0.292267     -0.282768  \n",
      "clarity      -0.184439 -0.345708     -0.361977  \n",
      "depth         0.001880  0.015253      0.012498  \n",
      "table         0.174915  0.217641      0.225555  \n",
      "price         1.000000  0.943888      0.926855  \n",
      "volume        0.943888  1.000000      0.995318  \n",
      "surface_area  0.926855  0.995318      1.000000  \n"
     ]
    }
   ],
   "source": [
    "from pprint import pprint\n",
    "pprint(df.corr())"
   ]
  },
  {
   "cell_type": "code",
   "execution_count": 71,
   "metadata": {},
   "outputs": [
    {
     "data": {
      "text/plain": [
       "<Axes: >"
      ]
     },
     "execution_count": 71,
     "metadata": {},
     "output_type": "execute_result"
    },
    {
     "data": {
      "image/png": "[encoded data removed]",
      "text/plain": [
       "<Figure size 640x480 with 2 Axes>"
      ]
     },
     "metadata": {},
     "output_type": "display_data"
    }
   ],
   "source": [
    "\n",
    "sns.heatmap(df.corr(), annot=True, cmap='magma')\n"
   ]
  },
  {
   "cell_type": "code",
   "execution_count": 72,
   "metadata": {},
   "outputs": [
    {
     "name": "stdout",
     "output_type": "stream",
     "text": [
      "Fitting 4 folds for each of 108 candidates, totalling 432 fits\n",
      "R2 Score: 0.9791944026947021\n",
      "Mean Squared Error: 337661.79857658315\n",
      "Mean Absolute Error: 297.4532324591565\n"
     ]
    }
   ],
   "source": [
    "X_new = df.drop('price', axis=1)\n",
    "y_new = df['price']\n",
    "\n",
    "X_train_new, X_test_new, y_train_new, y_test_new = train_test_split(X_new, y_new, test_size=0.25, random_state=42)\n",
    "\n",
    "scaler = StandardScaler()\n",
    "X_train_new = scaler.fit_transform(X_train_new)\n",
    "\n",
    "X_test_new = scaler.transform(X_test_new)\n",
    "\n",
    "# XGBoost Regressor\n",
    "\n",
    "xgb_pipe2 = Pipeline([('xgb', XGBRegressor())])\n",
    "\n",
    "param_grid = {\n",
    "    'xgb__n_estimators': [150,200],\n",
    "    'xgb__learning_rate': [0.1,0.3],\n",
    "    'xgb__max_depth': [3, 5,7],\n",
    "    'xgb__min_child_weight': [1, 3, 5],\n",
    "    'xgb__reg_lambda': [0.01, 0.1, 1],\n",
    "  \n",
    "}\n",
    "\n",
    "xgb_grid2 = GridSearchCV(xgb_pipe2, param_grid, cv=4, n_jobs=-1, verbose=2)\n",
    "\n",
    "xgb_grid2.fit(X_train_new, y_train_new)\n",
    "\n",
    "y_pred = xgb_grid2.predict(X_test_new)\n",
    "\n",
    "print('R2 Score:', r2_score(y_test_new, y_pred))\n",
    "\n",
    "print('Mean Squared Error:', mean_squared_error(y_test_new, y_pred))\n",
    "\n",
    "print('Mean Absolute Error:', mean_absolute_error(y_test_new, y_pred))\n",
    "\n",
    "# print('best parameters:', xgb_grid2.best_params_)\n",
    "\n",
    "\n",
    "    "
   ]
  },
  {
   "cell_type": "code",
   "execution_count": 74,
   "metadata": {},
   "outputs": [
    {
     "name": "stdout",
     "output_type": "stream",
     "text": [
      "Fitting 3 folds for each of 8 candidates, totalling 24 fits\n",
      "R2 Score: 0.9791871171154074\n",
      "Mean Squared Error: 337780.3864041828\n",
      "Mean Absolute Error: 297.4046641630328\n"
     ]
    }
   ],
   "source": [
    "gb_pipe2 = Pipeline([('gb', GradientBoostingRegressor())])\n",
    "\n",
    "param_grid = {\n",
    "    'gb__n_estimators': [150],\n",
    "    'gb__learning_rate': [0.1,0.3],\n",
    "    'gb__max_depth': [3, 5],\n",
    "    'gb__min_samples_split': [4,6],\n",
    "    'gb__min_samples_leaf': [ 4],\n",
    "    # 'gb__ccp_alpha': [0.0, 0.02]\n",
    "}\n",
    "\n",
    "gb_grid2 = GridSearchCV(gb_pipe2, param_grid, cv=3, n_jobs=-1, verbose=2)\n",
    "\n",
    "gb_grid2.fit(X_train_new, y_train_new)\n",
    "\n",
    "y_pred = gb_grid2.predict(X_test_new)\n",
    "\n",
    "print('R2 Score:', r2_score(y_test_new, y_pred))\n",
    "\n",
    "print('Mean Squared Error:', mean_squared_error(y_test_new, y_pred))\n",
    "\n",
    "print('Mean Absolute Error:', mean_absolute_error(y_test_new, y_pred))\n",
    "\n",
    "\n"
   ]
  },
  {
   "cell_type": "markdown",
   "metadata": {},
   "source": [
    "##### Neural Network Model"
   ]
  },
  {
   "cell_type": "code",
   "execution_count": 53,
   "metadata": {},
   "outputs": [],
   "source": [
    "## ANN\n",
    "import tensorflow\n",
    "from tensorflow.keras.models import Sequential\n",
    "from tensorflow.keras.layers import Dense, Dropout, BatchNormalization\n",
    "from tensorflow.keras.optimizers import Adam, SGD, AdamW, RMSprop\n",
    "from sklearn.model_selection import train_test_split\n",
    "from tensorflow.keras.regularizers import l2\n",
    "from keras.callbacks import EarlyStopping\n",
    "from keras.callbacks import ReduceLROnPlateau\n",
    "import xgboost as xgb"
   ]
  },
  {
   "cell_type": "code",
   "execution_count": 54,
   "metadata": {},
   "outputs": [
    {
     "name": "stderr",
     "output_type": "stream",
     "text": [
      "c:\\Users\\IIISI\\OneDrive\\Documents\\py\\mlops\\firste2eml\\env\\Lib\\site-packages\\keras\\src\\layers\\core\\dense.py:87: UserWarning: Do not pass an `input_shape`/`input_dim` argument to a layer. When using Sequential models, prefer using an `Input(shape)` object as the first layer in the model instead.\n",
      "  super().__init__(activity_regularizer=activity_regularizer, **kwargs)\n"
     ]
    },
    {
     "name": "stdout",
     "output_type": "stream",
     "text": [
      "Epoch 1/100\n",
      "\u001b[1m3630/3630\u001b[0m \u001b[32m━━━━━━━━━━━━━━━━━━━━\u001b[0m\u001b[37m\u001b[0m \u001b[1m5s\u001b[0m 1ms/step - loss: 3958077.0000 - mae: 925.7761 - val_loss: 532580.2500 - val_mae: 372.4877 - learning_rate: 0.0010\n",
      "Epoch 2/100\n",
      "\u001b[1m3630/3630\u001b[0m \u001b[32m━━━━━━━━━━━━━━━━━━━━\u001b[0m\u001b[37m\u001b[0m \u001b[1m4s\u001b[0m 996us/step - loss: 429730.9375 - mae: 356.9107 - val_loss: 494255.5625 - val_mae: 349.9286 - learning_rate: 0.0010\n",
      "Epoch 3/100\n",
      "\u001b[1m3630/3630\u001b[0m \u001b[32m━━━━━━━━━━━━━━━━━━━━\u001b[0m\u001b[37m\u001b[0m \u001b[1m4s\u001b[0m 1ms/step - loss: 417146.9688 - mae: 345.3696 - val_loss: 549717.4375 - val_mae: 378.5458 - learning_rate: 0.0010\n",
      "Epoch 4/100\n",
      "\u001b[1m3630/3630\u001b[0m \u001b[32m━━━━━━━━━━━━━━━━━━━━\u001b[0m\u001b[37m\u001b[0m \u001b[1m4s\u001b[0m 965us/step - loss: 418677.4375 - mae: 342.9196 - val_loss: 475256.0625 - val_mae: 339.3575 - learning_rate: 0.0010\n",
      "Epoch 5/100\n",
      "\u001b[1m3630/3630\u001b[0m \u001b[32m━━━━━━━━━━━━━━━━━━━━\u001b[0m\u001b[37m\u001b[0m \u001b[1m4s\u001b[0m 988us/step - loss: 424122.4062 - mae: 340.7785 - val_loss: 483033.5938 - val_mae: 343.3682 - learning_rate: 0.0010\n",
      "Epoch 6/100\n",
      "\u001b[1m3630/3630\u001b[0m \u001b[32m━━━━━━━━━━━━━━━━━━━━\u001b[0m\u001b[37m\u001b[0m \u001b[1m4s\u001b[0m 973us/step - loss: 397576.8125 - mae: 333.9852 - val_loss: 462057.3125 - val_mae: 334.4801 - learning_rate: 0.0010\n",
      "Epoch 7/100\n",
      "\u001b[1m3630/3630\u001b[0m \u001b[32m━━━━━━━━━━━━━━━━━━━━\u001b[0m\u001b[37m\u001b[0m \u001b[1m3s\u001b[0m 942us/step - loss: 399935.8750 - mae: 336.1855 - val_loss: 475323.7500 - val_mae: 329.9713 - learning_rate: 0.0010\n",
      "Epoch 8/100\n",
      "\u001b[1m3630/3630\u001b[0m \u001b[32m━━━━━━━━━━━━━━━━━━━━\u001b[0m\u001b[37m\u001b[0m \u001b[1m4s\u001b[0m 1000us/step - loss: 399060.8750 - mae: 331.0286 - val_loss: 455913.2188 - val_mae: 333.6898 - learning_rate: 0.0010\n",
      "Epoch 9/100\n",
      "\u001b[1m3630/3630\u001b[0m \u001b[32m━━━━━━━━━━━━━━━━━━━━\u001b[0m\u001b[37m\u001b[0m \u001b[1m4s\u001b[0m 1ms/step - loss: 392873.0312 - mae: 330.3930 - val_loss: 454415.6562 - val_mae: 328.3038 - learning_rate: 0.0010\n",
      "Epoch 10/100\n",
      "\u001b[1m3630/3630\u001b[0m \u001b[32m━━━━━━━━━━━━━━━━━━━━\u001b[0m\u001b[37m\u001b[0m \u001b[1m4s\u001b[0m 1ms/step - loss: 387856.5938 - mae: 328.5870 - val_loss: 457606.0625 - val_mae: 331.2281 - learning_rate: 0.0010\n",
      "Epoch 11/100\n",
      "\u001b[1m3630/3630\u001b[0m \u001b[32m━━━━━━━━━━━━━━━━━━━━\u001b[0m\u001b[37m\u001b[0m \u001b[1m4s\u001b[0m 1ms/step - loss: 375587.3750 - mae: 325.0905 - val_loss: 547056.5625 - val_mae: 363.5106 - learning_rate: 0.0010\n",
      "Epoch 12/100\n",
      "\u001b[1m3630/3630\u001b[0m \u001b[32m━━━━━━━━━━━━━━━━━━━━\u001b[0m\u001b[37m\u001b[0m \u001b[1m4s\u001b[0m 1ms/step - loss: 378387.1250 - mae: 324.4794 - val_loss: 438213.5000 - val_mae: 328.8607 - learning_rate: 0.0010\n",
      "Epoch 13/100\n",
      "\u001b[1m3630/3630\u001b[0m \u001b[32m━━━━━━━━━━━━━━━━━━━━\u001b[0m\u001b[37m\u001b[0m \u001b[1m4s\u001b[0m 1ms/step - loss: 377610.7812 - mae: 324.5255 - val_loss: 438420.2188 - val_mae: 326.2843 - learning_rate: 0.0010\n",
      "Epoch 14/100\n",
      "\u001b[1m3630/3630\u001b[0m \u001b[32m━━━━━━━━━━━━━━━━━━━━\u001b[0m\u001b[37m\u001b[0m \u001b[1m4s\u001b[0m 1ms/step - loss: 380947.4062 - mae: 327.2882 - val_loss: 451140.2188 - val_mae: 337.0584 - learning_rate: 0.0010\n",
      "Epoch 15/100\n",
      "\u001b[1m3630/3630\u001b[0m \u001b[32m━━━━━━━━━━━━━━━━━━━━\u001b[0m\u001b[37m\u001b[0m \u001b[1m4s\u001b[0m 1ms/step - loss: 381558.1250 - mae: 323.6507 - val_loss: 441294.1250 - val_mae: 324.3407 - learning_rate: 0.0010\n",
      "Epoch 16/100\n",
      "\u001b[1m3630/3630\u001b[0m \u001b[32m━━━━━━━━━━━━━━━━━━━━\u001b[0m\u001b[37m\u001b[0m \u001b[1m4s\u001b[0m 1ms/step - loss: 371470.0312 - mae: 321.8753 - val_loss: 436030.1875 - val_mae: 338.5155 - learning_rate: 0.0010\n",
      "Epoch 17/100\n",
      "\u001b[1m3630/3630\u001b[0m \u001b[32m━━━━━━━━━━━━━━━━━━━━\u001b[0m\u001b[37m\u001b[0m \u001b[1m4s\u001b[0m 1ms/step - loss: 369084.0000 - mae: 324.3117 - val_loss: 439156.5000 - val_mae: 337.7141 - learning_rate: 0.0010\n",
      "Epoch 18/100\n",
      "\u001b[1m3630/3630\u001b[0m \u001b[32m━━━━━━━━━━━━━━━━━━━━\u001b[0m\u001b[37m\u001b[0m \u001b[1m5s\u001b[0m 1ms/step - loss: 357983.4375 - mae: 318.3392 - val_loss: 432888.0625 - val_mae: 326.1271 - learning_rate: 0.0010\n",
      "Epoch 19/100\n",
      "\u001b[1m3630/3630\u001b[0m \u001b[32m━━━━━━━━━━━━━━━━━━━━\u001b[0m\u001b[37m\u001b[0m \u001b[1m4s\u001b[0m 1ms/step - loss: 359000.3750 - mae: 319.4829 - val_loss: 421179.9688 - val_mae: 326.9895 - learning_rate: 0.0010\n",
      "Epoch 20/100\n",
      "\u001b[1m3630/3630\u001b[0m \u001b[32m━━━━━━━━━━━━━━━━━━━━\u001b[0m\u001b[37m\u001b[0m \u001b[1m4s\u001b[0m 1ms/step - loss: 362991.3125 - mae: 317.0272 - val_loss: 411526.6562 - val_mae: 329.6022 - learning_rate: 0.0010\n",
      "Epoch 21/100\n",
      "\u001b[1m3630/3630\u001b[0m \u001b[32m━━━━━━━━━━━━━━━━━━━━\u001b[0m\u001b[37m\u001b[0m \u001b[1m4s\u001b[0m 1ms/step - loss: 349795.9688 - mae: 313.0353 - val_loss: 402778.6250 - val_mae: 317.8796 - learning_rate: 0.0010\n",
      "Epoch 22/100\n",
      "\u001b[1m3630/3630\u001b[0m \u001b[32m━━━━━━━━━━━━━━━━━━━━\u001b[0m\u001b[37m\u001b[0m \u001b[1m4s\u001b[0m 1ms/step - loss: 360051.2500 - mae: 316.2810 - val_loss: 420809.5938 - val_mae: 338.5876 - learning_rate: 0.0010\n",
      "Epoch 23/100\n",
      "\u001b[1m3630/3630\u001b[0m \u001b[32m━━━━━━━━━━━━━━━━━━━━\u001b[0m\u001b[37m\u001b[0m \u001b[1m4s\u001b[0m 1ms/step - loss: 347663.6562 - mae: 315.3066 - val_loss: 424131.3750 - val_mae: 335.5840 - learning_rate: 0.0010\n",
      "Epoch 24/100\n",
      "\u001b[1m3630/3630\u001b[0m \u001b[32m━━━━━━━━━━━━━━━━━━━━\u001b[0m\u001b[37m\u001b[0m \u001b[1m4s\u001b[0m 1ms/step - loss: 351192.1250 - mae: 314.4083 - val_loss: 396168.9688 - val_mae: 313.9160 - learning_rate: 0.0010\n",
      "Epoch 25/100\n",
      "\u001b[1m3630/3630\u001b[0m \u001b[32m━━━━━━━━━━━━━━━━━━━━\u001b[0m\u001b[37m\u001b[0m \u001b[1m4s\u001b[0m 1ms/step - loss: 352283.2500 - mae: 313.6797 - val_loss: 403815.0625 - val_mae: 316.4420 - learning_rate: 0.0010\n",
      "Epoch 26/100\n",
      "\u001b[1m3630/3630\u001b[0m \u001b[32m━━━━━━━━━━━━━━━━━━━━\u001b[0m\u001b[37m\u001b[0m \u001b[1m5s\u001b[0m 1ms/step - loss: 346229.5625 - mae: 310.7346 - val_loss: 454860.7188 - val_mae: 341.5648 - learning_rate: 0.0010\n",
      "Epoch 27/100\n",
      "\u001b[1m3630/3630\u001b[0m \u001b[32m━━━━━━━━━━━━━━━━━━━━\u001b[0m\u001b[37m\u001b[0m \u001b[1m5s\u001b[0m 1ms/step - loss: 338421.6562 - mae: 310.2846 - val_loss: 394783.6562 - val_mae: 313.4092 - learning_rate: 0.0010\n",
      "Epoch 28/100\n",
      "\u001b[1m3630/3630\u001b[0m \u001b[32m━━━━━━━━━━━━━━━━━━━━\u001b[0m\u001b[37m\u001b[0m \u001b[1m5s\u001b[0m 1ms/step - loss: 345767.5625 - mae: 311.2694 - val_loss: 408340.2500 - val_mae: 324.1663 - learning_rate: 0.0010\n",
      "Epoch 29/100\n",
      "\u001b[1m3630/3630\u001b[0m \u001b[32m━━━━━━━━━━━━━━━━━━━━\u001b[0m\u001b[37m\u001b[0m \u001b[1m6s\u001b[0m 2ms/step - loss: 353904.9688 - mae: 312.7223 - val_loss: 397499.8750 - val_mae: 318.7790 - learning_rate: 0.0010\n",
      "Epoch 30/100\n",
      "\u001b[1m3630/3630\u001b[0m \u001b[32m━━━━━━━━━━━━━━━━━━━━\u001b[0m\u001b[37m\u001b[0m \u001b[1m5s\u001b[0m 1ms/step - loss: 355198.7500 - mae: 311.3629 - val_loss: 394965.9688 - val_mae: 311.7688 - learning_rate: 0.0010\n",
      "Epoch 31/100\n",
      "\u001b[1m3630/3630\u001b[0m \u001b[32m━━━━━━━━━━━━━━━━━━━━\u001b[0m\u001b[37m\u001b[0m \u001b[1m5s\u001b[0m 1ms/step - loss: 341471.0625 - mae: 308.8929 - val_loss: 410715.2812 - val_mae: 324.6227 - learning_rate: 0.0010\n",
      "Epoch 32/100\n",
      "\u001b[1m3630/3630\u001b[0m \u001b[32m━━━━━━━━━━━━━━━━━━━━\u001b[0m\u001b[37m\u001b[0m \u001b[1m5s\u001b[0m 1ms/step - loss: 335063.9375 - mae: 307.0985 - val_loss: 408218.8125 - val_mae: 318.5287 - learning_rate: 0.0010\n",
      "Epoch 33/100\n",
      "\u001b[1m3630/3630\u001b[0m \u001b[32m━━━━━━━━━━━━━━━━━━━━\u001b[0m\u001b[37m\u001b[0m \u001b[1m4s\u001b[0m 1ms/step - loss: 331259.2812 - mae: 298.4081 - val_loss: 387887.9375 - val_mae: 306.3219 - learning_rate: 1.0000e-04\n",
      "Epoch 34/100\n",
      "\u001b[1m3630/3630\u001b[0m \u001b[32m━━━━━━━━━━━━━━━━━━━━\u001b[0m\u001b[37m\u001b[0m \u001b[1m4s\u001b[0m 1ms/step - loss: 321013.7188 - mae: 296.4321 - val_loss: 387571.3125 - val_mae: 307.8513 - learning_rate: 1.0000e-04\n",
      "Epoch 35/100\n",
      "\u001b[1m3630/3630\u001b[0m \u001b[32m━━━━━━━━━━━━━━━━━━━━\u001b[0m\u001b[37m\u001b[0m \u001b[1m4s\u001b[0m 1ms/step - loss: 325920.9375 - mae: 297.8788 - val_loss: 385284.7500 - val_mae: 306.7061 - learning_rate: 1.0000e-04\n",
      "Epoch 36/100\n",
      "\u001b[1m3630/3630\u001b[0m \u001b[32m━━━━━━━━━━━━━━━━━━━━\u001b[0m\u001b[37m\u001b[0m \u001b[1m4s\u001b[0m 1ms/step - loss: 318771.6562 - mae: 294.0443 - val_loss: 386765.0312 - val_mae: 306.2797 - learning_rate: 1.0000e-04\n",
      "Epoch 37/100\n",
      "\u001b[1m3630/3630\u001b[0m \u001b[32m━━━━━━━━━━━━━━━━━━━━\u001b[0m\u001b[37m\u001b[0m \u001b[1m4s\u001b[0m 1ms/step - loss: 319938.8438 - mae: 295.0266 - val_loss: 388000.7188 - val_mae: 306.9840 - learning_rate: 1.0000e-04\n",
      "Epoch 38/100\n",
      "\u001b[1m3630/3630\u001b[0m \u001b[32m━━━━━━━━━━━━━━━━━━━━\u001b[0m\u001b[37m\u001b[0m \u001b[1m4s\u001b[0m 1ms/step - loss: 327171.3750 - mae: 296.4371 - val_loss: 389490.1562 - val_mae: 306.6755 - learning_rate: 1.0000e-04\n",
      "Epoch 39/100\n",
      "\u001b[1m3630/3630\u001b[0m \u001b[32m━━━━━━━━━━━━━━━━━━━━\u001b[0m\u001b[37m\u001b[0m \u001b[1m4s\u001b[0m 1ms/step - loss: 327475.1250 - mae: 297.0814 - val_loss: 385705.7500 - val_mae: 306.7432 - learning_rate: 1.0000e-04\n",
      "Epoch 40/100\n",
      "\u001b[1m3630/3630\u001b[0m \u001b[32m━━━━━━━━━━━━━━━━━━━━\u001b[0m\u001b[37m\u001b[0m \u001b[1m4s\u001b[0m 1ms/step - loss: 324620.0312 - mae: 297.3643 - val_loss: 385565.0312 - val_mae: 306.1066 - learning_rate: 1.0000e-04\n",
      "Epoch 41/100\n",
      "\u001b[1m3630/3630\u001b[0m \u001b[32m━━━━━━━━━━━━━━━━━━━━\u001b[0m\u001b[37m\u001b[0m \u001b[1m4s\u001b[0m 1ms/step - loss: 323880.6562 - mae: 296.1789 - val_loss: 385271.7812 - val_mae: 305.9125 - learning_rate: 1.0000e-05\n",
      "Epoch 42/100\n",
      "\u001b[1m3630/3630\u001b[0m \u001b[32m━━━━━━━━━━━━━━━━━━━━\u001b[0m\u001b[37m\u001b[0m \u001b[1m4s\u001b[0m 1ms/step - loss: 322212.0000 - mae: 296.4415 - val_loss: 385238.5312 - val_mae: 305.9482 - learning_rate: 1.0000e-05\n",
      "Epoch 43/100\n",
      "\u001b[1m3630/3630\u001b[0m \u001b[32m━━━━━━━━━━━━━━━━━━━━\u001b[0m\u001b[37m\u001b[0m \u001b[1m4s\u001b[0m 1ms/step - loss: 321041.4375 - mae: 295.4088 - val_loss: 385171.5625 - val_mae: 306.2131 - learning_rate: 1.0000e-05\n",
      "Epoch 44/100\n",
      "\u001b[1m3630/3630\u001b[0m \u001b[32m━━━━━━━━━━━━━━━━━━━━\u001b[0m\u001b[37m\u001b[0m \u001b[1m4s\u001b[0m 1ms/step - loss: 327169.4375 - mae: 295.7556 - val_loss: 385286.5000 - val_mae: 305.9950 - learning_rate: 1.0000e-05\n",
      "Epoch 45/100\n",
      "\u001b[1m3630/3630\u001b[0m \u001b[32m━━━━━━━━━━━━━━━━━━━━\u001b[0m\u001b[37m\u001b[0m \u001b[1m4s\u001b[0m 1ms/step - loss: 333428.8125 - mae: 297.5250 - val_loss: 385428.7188 - val_mae: 305.7886 - learning_rate: 1.0000e-05\n",
      "Epoch 46/100\n",
      "\u001b[1m3630/3630\u001b[0m \u001b[32m━━━━━━━━━━━━━━━━━━━━\u001b[0m\u001b[37m\u001b[0m \u001b[1m4s\u001b[0m 1ms/step - loss: 317300.8438 - mae: 292.6651 - val_loss: 385159.7812 - val_mae: 305.9576 - learning_rate: 1.0000e-05\n",
      "Epoch 47/100\n",
      "\u001b[1m3630/3630\u001b[0m \u001b[32m━━━━━━━━━━━━━━━━━━━━\u001b[0m\u001b[37m\u001b[0m \u001b[1m4s\u001b[0m 1ms/step - loss: 324710.9375 - mae: 295.9876 - val_loss: 385408.3438 - val_mae: 305.8846 - learning_rate: 1.0000e-05\n",
      "Epoch 48/100\n",
      "\u001b[1m3630/3630\u001b[0m \u001b[32m━━━━━━━━━━━━━━━━━━━━\u001b[0m\u001b[37m\u001b[0m \u001b[1m4s\u001b[0m 1ms/step - loss: 330904.1250 - mae: 296.5781 - val_loss: 385118.3125 - val_mae: 305.9249 - learning_rate: 1.0000e-05\n",
      "Epoch 49/100\n",
      "\u001b[1m3630/3630\u001b[0m \u001b[32m━━━━━━━━━━━━━━━━━━━━\u001b[0m\u001b[37m\u001b[0m \u001b[1m4s\u001b[0m 1ms/step - loss: 328192.4062 - mae: 297.3321 - val_loss: 386066.8438 - val_mae: 305.7912 - learning_rate: 1.0000e-05\n",
      "Epoch 50/100\n",
      "\u001b[1m3630/3630\u001b[0m \u001b[32m━━━━━━━━━━━━━━━━━━━━\u001b[0m\u001b[37m\u001b[0m \u001b[1m4s\u001b[0m 1ms/step - loss: 317141.1250 - mae: 294.5590 - val_loss: 385189.7188 - val_mae: 305.9219 - learning_rate: 1.0000e-05\n",
      "Epoch 51/100\n",
      "\u001b[1m3630/3630\u001b[0m \u001b[32m━━━━━━━━━━━━━━━━━━━━\u001b[0m\u001b[37m\u001b[0m \u001b[1m4s\u001b[0m 1ms/step - loss: 329220.1875 - mae: 298.1393 - val_loss: 385343.2812 - val_mae: 305.8356 - learning_rate: 1.0000e-05\n",
      "Epoch 52/100\n",
      "\u001b[1m3630/3630\u001b[0m \u001b[32m━━━━━━━━━━━━━━━━━━━━\u001b[0m\u001b[37m\u001b[0m \u001b[1m4s\u001b[0m 1ms/step - loss: 314298.0000 - mae: 293.8934 - val_loss: 384983.9688 - val_mae: 306.1353 - learning_rate: 1.0000e-05\n",
      "Epoch 53/100\n",
      "\u001b[1m3630/3630\u001b[0m \u001b[32m━━━━━━━━━━━━━━━━━━━━\u001b[0m\u001b[37m\u001b[0m \u001b[1m4s\u001b[0m 1ms/step - loss: 328803.4062 - mae: 296.8634 - val_loss: 385322.5625 - val_mae: 306.0142 - learning_rate: 1.0000e-05\n",
      "Epoch 54/100\n",
      "\u001b[1m3630/3630\u001b[0m \u001b[32m━━━━━━━━━━━━━━━━━━━━\u001b[0m\u001b[37m\u001b[0m \u001b[1m5s\u001b[0m 1ms/step - loss: 324305.0625 - mae: 296.0851 - val_loss: 385775.0938 - val_mae: 305.6095 - learning_rate: 1.0000e-05\n",
      "Epoch 55/100\n",
      "\u001b[1m3630/3630\u001b[0m \u001b[32m━━━━━━━━━━━━━━━━━━━━\u001b[0m\u001b[37m\u001b[0m \u001b[1m4s\u001b[0m 989us/step - loss: 320101.1250 - mae: 296.5458 - val_loss: 385105.4688 - val_mae: 305.7822 - learning_rate: 1.0000e-05\n",
      "Epoch 56/100\n",
      "\u001b[1m3630/3630\u001b[0m \u001b[32m━━━━━━━━━━━━━━━━━━━━\u001b[0m\u001b[37m\u001b[0m \u001b[1m4s\u001b[0m 998us/step - loss: 327891.0312 - mae: 296.4366 - val_loss: 385097.3438 - val_mae: 305.8668 - learning_rate: 1.0000e-05\n",
      "Epoch 57/100\n",
      "\u001b[1m3630/3630\u001b[0m \u001b[32m━━━━━━━━━━━━━━━━━━━━\u001b[0m\u001b[37m\u001b[0m \u001b[1m4s\u001b[0m 1ms/step - loss: 319398.4375 - mae: 295.1451 - val_loss: 385876.7500 - val_mae: 305.6847 - learning_rate: 1.0000e-05\n",
      "Epoch 58/100\n",
      "\u001b[1m3630/3630\u001b[0m \u001b[32m━━━━━━━━━━━━━━━━━━━━\u001b[0m\u001b[37m\u001b[0m \u001b[1m4s\u001b[0m 1ms/step - loss: 326914.2812 - mae: 297.2993 - val_loss: 385448.4375 - val_mae: 305.7947 - learning_rate: 1.0000e-06\n",
      "Epoch 59/100\n",
      "\u001b[1m3630/3630\u001b[0m \u001b[32m━━━━━━━━━━━━━━━━━━━━\u001b[0m\u001b[37m\u001b[0m \u001b[1m4s\u001b[0m 1ms/step - loss: 322741.6562 - mae: 295.0542 - val_loss: 385406.4375 - val_mae: 305.7778 - learning_rate: 1.0000e-06\n",
      "Epoch 60/100\n",
      "\u001b[1m3630/3630\u001b[0m \u001b[32m━━━━━━━━━━━━━━━━━━━━\u001b[0m\u001b[37m\u001b[0m \u001b[1m5s\u001b[0m 1ms/step - loss: 328499.6250 - mae: 296.6689 - val_loss: 385330.3750 - val_mae: 305.7758 - learning_rate: 1.0000e-06\n",
      "Epoch 61/100\n",
      "\u001b[1m3630/3630\u001b[0m \u001b[32m━━━━━━━━━━━━━━━━━━━━\u001b[0m\u001b[37m\u001b[0m \u001b[1m4s\u001b[0m 972us/step - loss: 329938.7812 - mae: 299.0630 - val_loss: 385201.0625 - val_mae: 305.8050 - learning_rate: 1.0000e-06\n",
      "Epoch 62/100\n",
      "\u001b[1m3630/3630\u001b[0m \u001b[32m━━━━━━━━━━━━━━━━━━━━\u001b[0m\u001b[37m\u001b[0m \u001b[1m4s\u001b[0m 998us/step - loss: 317409.8750 - mae: 293.4496 - val_loss: 385295.0000 - val_mae: 305.7801 - learning_rate: 1.0000e-06\n",
      "\u001b[1m4537/4537\u001b[0m \u001b[32m━━━━━━━━━━━━━━━━━━━━\u001b[0m\u001b[37m\u001b[0m \u001b[1m3s\u001b[0m 603us/step\n",
      "\u001b[1m1513/1513\u001b[0m \u001b[32m━━━━━━━━━━━━━━━━━━━━\u001b[0m\u001b[37m\u001b[0m \u001b[1m1s\u001b[0m 596us/step\n",
      "Stacked Model R² Score: 0.9792540073394775\n"
     ]
    },
    {
     "data": {
      "image/png": "[encoded data removed]",
      "text/plain": [
       "<Figure size 640x480 with 1 Axes>"
      ]
     },
     "metadata": {},
     "output_type": "display_data"
    },
    {
     "data": {
      "image/png": "[encoded data removed]",
      "text/plain": [
       "<Figure size 640x480 with 1 Axes>"
      ]
     },
     "metadata": {},
     "output_type": "display_data"
    }
   ],
   "source": [
    "\n",
    "\n",
    "nn_model = Sequential([\n",
    "    Dense(128, input_dim=X_train_new.shape[1], activation='relu', kernel_regularizer=l2(0.0001)),\n",
    "    Dense(256, activation='relu', kernel_regularizer=l2(0.0001)),\n",
    "    Dense(128, activation='relu', kernel_regularizer=l2(0.0001)),\n",
    "    Dense(1)  # Output layer for regression\n",
    "])\n",
    "\n",
    "nn_model.compile(optimizer=AdamW(learning_rate=0.001, weight_decay=0.0001),\n",
    "                 loss='mean_squared_error',\n",
    "                 metrics=['mae'])\n",
    "\n",
    "reduce_lr = ReduceLROnPlateau(monitor='val_loss', factor=0.1, patience=5, min_lr=1e-6)\n",
    "early_stopping = EarlyStopping(monitor='val_loss', patience=10, restore_best_weights=True)\n",
    "\n",
    "history = nn_model.fit(X_train_new, y_train_new, epochs=100, batch_size=32, validation_split=0.2, verbose=1, callbacks=[reduce_lr, early_stopping])\n",
    "\n",
    "# Predict using neural network\n",
    "nn_train_preds = nn_model.predict(X_train_new)\n",
    "nn_valid_preds = nn_model.predict(X_test_new)\n",
    "\n",
    "# 2. **Train XGBoost**\n",
    "\n",
    "xgboost_model = xgb.XGBRegressor(learning_rate=0.01, n_estimators=1000, max_depth=5, alpha=10, gamma=0.1)\n",
    "xgboost_model.fit(X_train_new, y_train_new)\n",
    "\n",
    "# Predict using XGBoost\n",
    "xgboost_train_preds = xgboost_model.predict(X_train_new)\n",
    "xgboost_valid_preds = xgboost_model.predict(X_test_new)\n",
    "\n",
    "# 3. **Combine Predictions**\n",
    "\n",
    "# Stack predictions from both models\n",
    "train_meta_features = np.column_stack((xgboost_train_preds, nn_train_preds.flatten()))\n",
    "valid_meta_features = np.column_stack((xgboost_valid_preds, nn_valid_preds.flatten()))\n",
    "\n",
    "# Train meta-learner\n",
    "meta_learner = Ridge()\n",
    "meta_learner.fit(train_meta_features, y_train_new)\n",
    "\n",
    "# Predict and evaluate\n",
    "meta_predictions = meta_learner.predict(valid_meta_features)\n",
    "r2 = r2_score(y_test_new, meta_predictions)\n",
    "print(f\"Stacked Model R² Score: {r2}\")\n",
    "\n",
    "# Plot training history for Neural Network\n",
    "plt.plot(history.history['loss'], label='Train Loss')\n",
    "plt.plot(history.history['val_loss'], label='Validation Loss')\n",
    "plt.xlabel('Epoch')\n",
    "plt.ylabel('Loss')\n",
    "plt.legend()\n",
    "plt.show()\n",
    "\n",
    "plt.plot(history.history['mae'], label='Train MAE')\n",
    "plt.plot(history.history['val_mae'], label='Validation MAE')\n",
    "plt.xlabel('Epoch')\n",
    "plt.ylabel('MAE')\n",
    "plt.legend()\n",
    "plt.show()\n",
    "\n",
    "\n"
   ]
  },
  {
   "cell_type": "code",
   "execution_count": 55,
   "metadata": {},
   "outputs": [],
   "source": [
    "import pickle\n",
    "# create an iterator object with write permission - model.pkl\n",
    "with open('model_pkl', 'wb') as files:\n",
    "    # save the model to the file\n",
    "    pickle.dump(meta_learner, files)"
   ]
  },
  {
   "cell_type": "code",
   "execution_count": 59,
   "metadata": {},
   "outputs": [
    {
     "data": {
      "text/plain": [
       "array([1456.3574], dtype=float32)"
      ]
     },
     "execution_count": 59,
     "metadata": {},
     "output_type": "execute_result"
    }
   ],
   "source": [
    "# load saved model\n",
    "with open('model_pkl' , 'rb') as f:\n",
    "    lrp = pickle.load(f)\n",
    "# check prediction\n",
    "\n",
    "lrp.predict([valid_meta_features[0]])"
   ]
  },
  {
   "cell_type": "code",
   "execution_count": 66,
   "metadata": {},
   "outputs": [
    {
     "name": "stdout",
     "output_type": "stream",
     "text": [
      "\u001b[1m4/4\u001b[0m \u001b[32m━━━━━━━━━━━━━━━━━━━━\u001b[0m\u001b[37m\u001b[0m \u001b[1m0s\u001b[0m 1ms/step \n",
      "Stacked Model R² Score: 0.9870889782905579\n"
     ]
    }
   ],
   "source": [
    "\n",
    "# 100 samples from X_train_new, compare with the predictions from the two models and the meta-learner\n",
    "\n",
    "data_sample = X_train_new[:100]\n",
    "xgb_prediction = xgboost_model.predict(data_sample)\n",
    "nn_prediction = nn_model.predict(data_sample)\n",
    "\n",
    "data_meta_features = np.column_stack((xgb_prediction, nn_prediction.flatten()))\n",
    "\n",
    "pred_y = meta_learner.predict(data_meta_features)\n",
    "\n",
    "# now check the actual values\n",
    "\n",
    "actual_y = y_train_new[:100]\n",
    "\n",
    "# create a dataframe to compare the actual and predicted values\n",
    "\n",
    "df_comp = pd.DataFrame({'Actual': actual_y, 'Predicted': pred_y})\n",
    "\n",
    "\n",
    "r2 = r2_score(actual_y, pred_y)\n",
    "print(f\"Stacked Model R² Score: {r2}\")\n"
   ]
  },
  {
   "cell_type": "code",
   "execution_count": null,
   "metadata": {},
   "outputs": [],
   "source": []
  }
 ],
 "metadata": {
  "kernelspec": {
   "display_name": "Python 3",
   "language": "python",
   "name": "python3"
  },
  "language_info": {
   "codemirror_mode": {
    "name": "ipython",
    "version": 3
   },
   "file_extension": ".py",
   "mimetype": "text/x-python",
   "name": "python",
   "nbconvert_exporter": "python",
   "pygments_lexer": "ipython3",
   "version": "3.12.4"
  }
 },
 "nbformat": 4,
 "nbformat_minor": 2
}
